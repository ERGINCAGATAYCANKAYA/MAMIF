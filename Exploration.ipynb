{
 "cells": [
  {
   "cell_type": "code",
   "execution_count": 56,
   "metadata": {},
   "outputs": [],
   "source": [
    "from mpl_toolkits.mplot3d import Axes3D\n",
    "import matplotlib.pyplot as plt\n",
    "import pandas as pd\n",
    "import numpy as np\n",
    "from laspy.file import File\n",
    "import pptk\n",
    "from sklearn import preprocessing\n",
    "import pye57\n",
    "%matplotlib inline"
   ]
  },
  {
   "cell_type": "markdown",
   "metadata": {},
   "source": [
    "# 1. Data loading into a dataframe"
   ]
  },
  {
   "cell_type": "markdown",
   "metadata": {},
   "source": [
    "### 1.1 Put File location"
   ]
  },
  {
   "cell_type": "code",
   "execution_count": 61,
   "metadata": {},
   "outputs": [],
   "source": [
    "file_location_las = 'C:\\\\Users\\\\Kazi Abir Adnan\\\\The University of Melbourne\\\\Trent Penman - Sites\\\\las_format\\\\SP14_Garvey.las'"
   ]
  },
  {
   "cell_type": "code",
   "execution_count": 62,
   "metadata": {},
   "outputs": [],
   "source": [
    "file_location_e57 = 'C:\\\\Users\\\\Kazi Abir Adnan\\\\The University of Melbourne\\\\Trent Penman - Sites\\\\SP14 Garvey.e57'"
   ]
  },
  {
   "cell_type": "markdown",
   "metadata": {},
   "source": [
    "### 1.2 Creating Dataframe"
   ]
  },
  {
   "cell_type": "code",
   "execution_count": 70,
   "metadata": {},
   "outputs": [
    {
     "name": "stdout",
     "output_type": "stream",
     "text": [
      "Length of dataset: 8195983\n"
     ]
    }
   ],
   "source": [
    "e57 = pye57.E57(file_location_e57)\n",
    "data_raw = e57.read_scan_raw(0)\n",
    "df_e57 = pd.DataFrame(columns = [\"X\", \"Y\", \"Z\", \"Red\", \"Green\", \"Blue\"])\n",
    "df_e57['X'] = data_raw['cartesianX']\n",
    "df_e57['Y'] = data_raw['cartesianY']\n",
    "df_e57['Z'] = data_raw['cartesianZ']\n",
    "df_e57['Green'] = data_raw['colorGreen']\n",
    "df_e57['Red'] = data_raw['colorRed']\n",
    "df_e57['Blue'] = data_raw['colorBlue']\n",
    "print(\"Length of dataset:\", df_e57.shape[0])"
   ]
  },
  {
   "cell_type": "code",
   "execution_count": 71,
   "metadata": {},
   "outputs": [
    {
     "name": "stdout",
     "output_type": "stream",
     "text": [
      "Length of dataset: 8195983\n"
     ]
    }
   ],
   "source": [
    "inFile = File(file_location_las, mode='r')\n",
    "df_las = pd.DataFrame(columns = [\"X\", \"Y\", \"Z\", \"Red\", \"Green\", \"Blue\"])\n",
    "df_las['X'] = inFile.X\n",
    "df_las['Y'] = inFile.Y\n",
    "df_las['Z'] = inFile.Z\n",
    "df_las['Green'] = inFile.green/256\n",
    "df_las['Red'] = inFile.red/256\n",
    "df_las['Blue'] = inFile.blue/256\n",
    "print(\"Length of dataset:\", df_las.shape[0])"
   ]
  },
  {
   "cell_type": "code",
   "execution_count": 72,
   "metadata": {},
   "outputs": [
    {
     "data": {
      "text/html": [
       "<div>\n",
       "<style scoped>\n",
       "    .dataframe tbody tr th:only-of-type {\n",
       "        vertical-align: middle;\n",
       "    }\n",
       "\n",
       "    .dataframe tbody tr th {\n",
       "        vertical-align: top;\n",
       "    }\n",
       "\n",
       "    .dataframe thead th {\n",
       "        text-align: right;\n",
       "    }\n",
       "</style>\n",
       "<table border=\"1\" class=\"dataframe\">\n",
       "  <thead>\n",
       "    <tr style=\"text-align: right;\">\n",
       "      <th></th>\n",
       "      <th>X</th>\n",
       "      <th>Y</th>\n",
       "      <th>Z</th>\n",
       "      <th>Red</th>\n",
       "      <th>Green</th>\n",
       "      <th>Blue</th>\n",
       "    </tr>\n",
       "  </thead>\n",
       "  <tbody>\n",
       "    <tr>\n",
       "      <th>0</th>\n",
       "      <td>-112.928322</td>\n",
       "      <td>-89.967087</td>\n",
       "      <td>-0.042502</td>\n",
       "      <td>38</td>\n",
       "      <td>37</td>\n",
       "      <td>19</td>\n",
       "    </tr>\n",
       "    <tr>\n",
       "      <th>1</th>\n",
       "      <td>-123.309288</td>\n",
       "      <td>-74.443047</td>\n",
       "      <td>-16.053707</td>\n",
       "      <td>48</td>\n",
       "      <td>42</td>\n",
       "      <td>29</td>\n",
       "    </tr>\n",
       "    <tr>\n",
       "      <th>2</th>\n",
       "      <td>-124.047913</td>\n",
       "      <td>-73.762810</td>\n",
       "      <td>-13.217468</td>\n",
       "      <td>50</td>\n",
       "      <td>43</td>\n",
       "      <td>35</td>\n",
       "    </tr>\n",
       "    <tr>\n",
       "      <th>3</th>\n",
       "      <td>-128.557434</td>\n",
       "      <td>-64.230659</td>\n",
       "      <td>-11.323495</td>\n",
       "      <td>42</td>\n",
       "      <td>33</td>\n",
       "      <td>21</td>\n",
       "    </tr>\n",
       "    <tr>\n",
       "      <th>4</th>\n",
       "      <td>-128.571716</td>\n",
       "      <td>-64.242706</td>\n",
       "      <td>-11.149029</td>\n",
       "      <td>46</td>\n",
       "      <td>38</td>\n",
       "      <td>21</td>\n",
       "    </tr>\n",
       "  </tbody>\n",
       "</table>\n",
       "</div>"
      ],
      "text/plain": [
       "            X          Y          Z  Red  Green  Blue\n",
       "0 -112.928322 -89.967087  -0.042502   38     37    19\n",
       "1 -123.309288 -74.443047 -16.053707   48     42    29\n",
       "2 -124.047913 -73.762810 -13.217468   50     43    35\n",
       "3 -128.557434 -64.230659 -11.323495   42     33    21\n",
       "4 -128.571716 -64.242706 -11.149029   46     38    21"
      ]
     },
     "execution_count": 72,
     "metadata": {},
     "output_type": "execute_result"
    }
   ],
   "source": [
    "df_e57.head()"
   ]
  },
  {
   "cell_type": "code",
   "execution_count": 73,
   "metadata": {},
   "outputs": [
    {
     "data": {
      "text/html": [
       "<div>\n",
       "<style scoped>\n",
       "    .dataframe tbody tr th:only-of-type {\n",
       "        vertical-align: middle;\n",
       "    }\n",
       "\n",
       "    .dataframe tbody tr th {\n",
       "        vertical-align: top;\n",
       "    }\n",
       "\n",
       "    .dataframe thead th {\n",
       "        text-align: right;\n",
       "    }\n",
       "</style>\n",
       "<table border=\"1\" class=\"dataframe\">\n",
       "  <thead>\n",
       "    <tr style=\"text-align: right;\">\n",
       "      <th></th>\n",
       "      <th>X</th>\n",
       "      <th>Y</th>\n",
       "      <th>Z</th>\n",
       "      <th>Red</th>\n",
       "      <th>Green</th>\n",
       "      <th>Blue</th>\n",
       "    </tr>\n",
       "  </thead>\n",
       "  <tbody>\n",
       "    <tr>\n",
       "      <th>0</th>\n",
       "      <td>106821731</td>\n",
       "      <td>168683853</td>\n",
       "      <td>236966754</td>\n",
       "      <td>38.0</td>\n",
       "      <td>37.0</td>\n",
       "      <td>19.0</td>\n",
       "    </tr>\n",
       "    <tr>\n",
       "      <th>1</th>\n",
       "      <td>71612202</td>\n",
       "      <td>223089646</td>\n",
       "      <td>154236901</td>\n",
       "      <td>48.0</td>\n",
       "      <td>42.0</td>\n",
       "      <td>29.0</td>\n",
       "    </tr>\n",
       "    <tr>\n",
       "      <th>2</th>\n",
       "      <td>69106980</td>\n",
       "      <td>225473615</td>\n",
       "      <td>168891740</td>\n",
       "      <td>50.0</td>\n",
       "      <td>43.0</td>\n",
       "      <td>35.0</td>\n",
       "    </tr>\n",
       "    <tr>\n",
       "      <th>3</th>\n",
       "      <td>53811860</td>\n",
       "      <td>258880137</td>\n",
       "      <td>178677895</td>\n",
       "      <td>42.0</td>\n",
       "      <td>33.0</td>\n",
       "      <td>21.0</td>\n",
       "    </tr>\n",
       "    <tr>\n",
       "      <th>4</th>\n",
       "      <td>53763418</td>\n",
       "      <td>258837917</td>\n",
       "      <td>179579361</td>\n",
       "      <td>46.0</td>\n",
       "      <td>38.0</td>\n",
       "      <td>21.0</td>\n",
       "    </tr>\n",
       "  </tbody>\n",
       "</table>\n",
       "</div>"
      ],
      "text/plain": [
       "           X          Y          Z   Red  Green  Blue\n",
       "0  106821731  168683853  236966754  38.0   37.0  19.0\n",
       "1   71612202  223089646  154236901  48.0   42.0  29.0\n",
       "2   69106980  225473615  168891740  50.0   43.0  35.0\n",
       "3   53811860  258880137  178677895  42.0   33.0  21.0\n",
       "4   53763418  258837917  179579361  46.0   38.0  21.0"
      ]
     },
     "execution_count": 73,
     "metadata": {},
     "output_type": "execute_result"
    }
   ],
   "source": [
    "df_las.head()"
   ]
  },
  {
   "cell_type": "markdown",
   "metadata": {},
   "source": [
    "### 1.3 Normalizing data"
   ]
  },
  {
   "cell_type": "code",
   "execution_count": 16,
   "metadata": {},
   "outputs": [],
   "source": [
    "x = df[['X']].values.astype(float)\n",
    "min_max_scaler = preprocessing.MinMaxScaler()\n",
    "x_scaled = min_max_scaler.fit_transform(x)\n",
    "df['X'] = x_scaled\n",
    "\n",
    "y = df[['Y']].values.astype(float)\n",
    "min_max_scaler = preprocessing.MinMaxScaler()\n",
    "y_scaled = min_max_scaler.fit_transform(y)\n",
    "df['Y'] = y_scaled\n",
    "\n",
    "z = df[['Z']].values.astype(float)\n",
    "min_max_scaler = preprocessing.MinMaxScaler()\n",
    "z_scaled = min_max_scaler.fit_transform(z)\n",
    "df['Z'] = z_scaled"
   ]
  },
  {
   "cell_type": "markdown",
   "metadata": {},
   "source": [
    "# 2. Plot functions"
   ]
  },
  {
   "cell_type": "code",
   "execution_count": 11,
   "metadata": {},
   "outputs": [],
   "source": [
    "# 3d plotting\n",
    "def plot_3d(df):\n",
    "    fig=plt.figure(figsize=(12, 8), dpi= 80, facecolor='w', edgecolor='k')\n",
    "    ax = fig.add_subplot(111, projection = '3d')\n",
    "    ax.scatter(df['X'].values, df['Y'].values, df['Z'].values, c = df[['Red','Green','Blue']].values/255.0, s= 1.0)\n",
    "    ax.set_xlabel('X')\n",
    "    ax.set_ylabel('Y')\n",
    "    ax.set_zlabel('Z')\n",
    "    plt.show()\n",
    "\n",
    "#2d pllotting\n",
    "def plot_2d(df):\n",
    "    fig=plt.figure(figsize=(12, 8), dpi= 80, facecolor='w', edgecolor='k')\n",
    "    plt.scatter(df['X'].values, df['Y'].values,c = df[['Red','Green','Blue']].values/255.0, s= 1.0)\n",
    "    plt.xlabel('X')\n",
    "    plt.ylabel('Y')\n",
    "    plt.show()\n",
    "\n",
    "def plot_pptk(df):\n",
    "    v = pptk.viewer(df[['X', 'Y', 'Z']])\n",
    "    v.attributes(df[['Red', 'Green', 'Blue']] / 255.)\n",
    "    v.set(point_size=0.001)"
   ]
  },
  {
   "cell_type": "markdown",
   "metadata": {},
   "source": [
    "# 3. Explorations"
   ]
  },
  {
   "cell_type": "markdown",
   "metadata": {},
   "source": [
    "### 3.1 Sample n data and plot in figure"
   ]
  },
  {
   "cell_type": "code",
   "execution_count": 74,
   "metadata": {},
   "outputs": [],
   "source": [
    "# plot_3d(df.sample(n=10000, random_state = 42))\n",
    "# plot_2d(df.sample(n=10000, random_state = 42))\n",
    "plot_pptk(df_e57)\n",
    "plot_pptk(df_las)"
   ]
  },
  {
   "cell_type": "code",
   "execution_count": 17,
   "metadata": {},
   "outputs": [],
   "source": []
  },
  {
   "cell_type": "code",
   "execution_count": null,
   "metadata": {},
   "outputs": [],
   "source": []
  }
 ],
 "metadata": {
  "kernelspec": {
   "display_name": "Python 3",
   "language": "python",
   "name": "python3"
  },
  "language_info": {
   "codemirror_mode": {
    "name": "ipython",
    "version": 3
   },
   "file_extension": ".py",
   "mimetype": "text/x-python",
   "name": "python",
   "nbconvert_exporter": "python",
   "pygments_lexer": "ipython3",
   "version": "3.6.8"
  }
 },
 "nbformat": 4,
 "nbformat_minor": 2
}
