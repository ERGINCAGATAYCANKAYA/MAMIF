{
 "cells": [
  {
   "cell_type": "code",
   "execution_count": 4,
   "metadata": {},
   "outputs": [],
   "source": [
    "from mpl_toolkits.mplot3d import Axes3D\n",
    "import matplotlib.pyplot as plt\n",
    "import pandas as pd\n",
    "import numpy as np\n",
    "from laspy.file import File\n",
    "import pptk\n",
    "from sklearn import preprocessing\n",
    "%matplotlib inline"
   ]
  },
  {
   "cell_type": "markdown",
   "metadata": {},
   "source": [
    "# 1. Data loading into a dataframe"
   ]
  },
  {
   "cell_type": "markdown",
   "metadata": {},
   "source": [
    "### 1.1 Put File location"
   ]
  },
  {
   "cell_type": "code",
   "execution_count": 14,
   "metadata": {},
   "outputs": [],
   "source": [
    "file_location = 'C:\\\\Users\\\\Kazi Abir Adnan\\\\The University of Melbourne\\\\Trent Penman - Sites\\\\las_format\\\\carpark.las'"
   ]
  },
  {
   "cell_type": "markdown",
   "metadata": {},
   "source": [
    "### 1.2 Creating Dataframe"
   ]
  },
  {
   "cell_type": "code",
   "execution_count": 15,
   "metadata": {},
   "outputs": [
    {
     "name": "stdout",
     "output_type": "stream",
     "text": [
      "Length of dataset: 5764979\n"
     ]
    }
   ],
   "source": [
    "inFile = File(file_location, mode='r')\n",
    "df = pd.DataFrame(columns = [\"X\", \"Y\", \"Z\", \"Red\", \"Green\", \"Blue\"])\n",
    "df['X'] = inFile.X\n",
    "df['Y'] = inFile.Y\n",
    "df['Z'] = inFile.Z\n",
    "df['Green'] = inFile.green/256\n",
    "df['Red'] = inFile.red/256\n",
    "df['Blue'] = inFile.blue/256\n",
    "print(\"Length of dataset:\", df.shape[0])"
   ]
  },
  {
   "cell_type": "markdown",
   "metadata": {},
   "source": [
    "### 1.3 Normalizing data"
   ]
  },
  {
   "cell_type": "code",
   "execution_count": 16,
   "metadata": {},
   "outputs": [],
   "source": [
    "x = df[['X']].values.astype(float)\n",
    "min_max_scaler = preprocessing.MinMaxScaler()\n",
    "x_scaled = min_max_scaler.fit_transform(x)\n",
    "df['X'] = x_scaled\n",
    "\n",
    "y = df[['Y']].values.astype(float)\n",
    "min_max_scaler = preprocessing.MinMaxScaler()\n",
    "y_scaled = min_max_scaler.fit_transform(y)\n",
    "df['Y'] = y_scaled\n",
    "\n",
    "z = df[['Z']].values.astype(float)\n",
    "min_max_scaler = preprocessing.MinMaxScaler()\n",
    "z_scaled = min_max_scaler.fit_transform(z)\n",
    "df['Z'] = z_scaled"
   ]
  },
  {
   "cell_type": "markdown",
   "metadata": {},
   "source": [
    "# 2. Plot functions"
   ]
  },
  {
   "cell_type": "code",
   "execution_count": null,
   "metadata": {},
   "outputs": [],
   "source": [
    "# 3d plotting\n",
    "def plot_3d(df):\n",
    "    fig=plt.figure(figsize=(12, 8), dpi= 80, facecolor='w', edgecolor='k')\n",
    "    ax = fig.add_subplot(111, projection = '3d')\n",
    "    ax.scatter(df['X'].values, df['Y'].values, df['Z'].values, c = df[['Red','Green','Blue']].values/255.0, s= 1.0)\n",
    "    ax.set_xlabel('X')\n",
    "    ax.set_ylabel('Y')\n",
    "    ax.set_zlabel('Z')\n",
    "    plt.show()\n",
    "\n",
    "#2d pllotting\n",
    "def plot_2d(df):\n",
    "    fig=plt.figure(figsize=(12, 8), dpi= 80, facecolor='w', edgecolor='k')\n",
    "    plt.scatter(df['X'].values, df['Y'].values,c = df[['Red','Green','Blue']].values/255.0, s= 1.0)\n",
    "    plt.xlabel('X')\n",
    "    plt.ylabel('Y')\n",
    "    plt.show()"
   ]
  },
  {
   "cell_type": "markdown",
   "metadata": {},
   "source": [
    "# 3. Explorations"
   ]
  },
  {
   "cell_type": "markdown",
   "metadata": {},
   "source": [
    "### 3.1 Sample n data and plot in figure"
   ]
  },
  {
   "cell_type": "code",
   "execution_count": null,
   "metadata": {},
   "outputs": [],
   "source": [
    "plot_3d(df.sample(n=10000, random_state = 42))\n",
    "plot_2d(df.sample(n=10000, random_state = 42))"
   ]
  },
  {
   "cell_type": "code",
   "execution_count": 17,
   "metadata": {},
   "outputs": [],
   "source": [
    "v = pptk.viewer(df[['X', 'Y', 'Z']])\n",
    "v.attributes(df[['Red', 'Green', 'Blue']] / 255.)\n",
    "v.set(point_size=0.001)"
   ]
  },
  {
   "cell_type": "code",
   "execution_count": null,
   "metadata": {},
   "outputs": [],
   "source": []
  }
 ],
 "metadata": {
  "kernelspec": {
   "display_name": "Python 3",
   "language": "python",
   "name": "python3"
  },
  "language_info": {
   "codemirror_mode": {
    "name": "ipython",
    "version": 3
   },
   "file_extension": ".py",
   "mimetype": "text/x-python",
   "name": "python",
   "nbconvert_exporter": "python",
   "pygments_lexer": "ipython3",
   "version": "3.6.8"
  }
 },
 "nbformat": 4,
 "nbformat_minor": 2
}
