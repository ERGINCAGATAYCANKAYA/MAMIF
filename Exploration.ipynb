{
 "cells": [
  {
   "cell_type": "code",
   "execution_count": null,
   "metadata": {},
   "outputs": [],
   "source": [
    "from mpl_toolkits.mplot3d import Axes3D\n",
    "import matplotlib.pyplot as plt\n",
    "import pandas as pd\n",
    "import numpy as np\n",
    "from laspy.file import File\n",
    "import pptk\n",
    "from sklearn import preprocessing\n",
    "import pye57\n",
    "%matplotlib inline"
   ]
  },
  {
   "cell_type": "markdown",
   "metadata": {},
   "source": [
    "# 1. Data loading into a dataframe"
   ]
  },
  {
   "cell_type": "markdown",
   "metadata": {},
   "source": [
    "### 1.1 Put File location"
   ]
  },
  {
   "cell_type": "code",
   "execution_count": null,
   "metadata": {},
   "outputs": [],
   "source": [
    "file_location_las = 'C:\\\\Users\\\\Kazi Abir Adnan\\\\The University of Melbourne\\\\Trent Penman - Sites\\\\las_format\\\\SP14_Garvey.las'"
   ]
  },
  {
   "cell_type": "code",
   "execution_count": null,
   "metadata": {},
   "outputs": [],
   "source": [
    "file_location_e57 = 'C:\\\\Users\\\\Kazi Abir Adnan\\\\The University of Melbourne\\\\Trent Penman - Sites\\\\SP14 Garvey.e57'"
   ]
  },
  {
   "cell_type": "markdown",
   "metadata": {},
   "source": [
    "### 1.2 Creating Dataframe"
   ]
  },
  {
   "cell_type": "markdown",
   "metadata": {},
   "source": [
    "##### 1.2.1 Load e57 dataframe"
   ]
  },
  {
   "cell_type": "code",
   "execution_count": null,
   "metadata": {},
   "outputs": [],
   "source": [
    "e57 = pye57.E57(file_location_e57)\n",
    "data_raw = e57.read_scan_raw(0)\n",
    "df_e57 = pd.DataFrame(columns = [\"X\", \"Y\", \"Z\", \"Red\", \"Green\", \"Blue\"])\n",
    "df_e57['X'] = data_raw['cartesianX']\n",
    "df_e57['Y'] = data_raw['cartesianY']\n",
    "df_e57['Z'] = data_raw['cartesianZ']\n",
    "df_e57['Green'] = data_raw['colorGreen']\n",
    "df_e57['Red'] = data_raw['colorRed']\n",
    "df_e57['Blue'] = data_raw['colorBlue']\n",
    "print(\"Length of dataset:\", df_e57.shape[0])"
   ]
  },
  {
   "cell_type": "markdown",
   "metadata": {},
   "source": [
    "##### 1.2.2 Load las dataframe"
   ]
  },
  {
   "cell_type": "code",
   "execution_count": null,
   "metadata": {},
   "outputs": [],
   "source": [
    "inFile = File(file_location_las, mode='r')\n",
    "df_las = pd.DataFrame(columns = [\"X\", \"Y\", \"Z\", \"Red\", \"Green\", \"Blue\"])\n",
    "df_las['X'] = inFile.X\n",
    "df_las['Y'] = inFile.Y\n",
    "df_las['Z'] = inFile.Z\n",
    "df_las['Green'] = inFile.green/256\n",
    "df_las['Red'] = inFile.red/256\n",
    "df_las['Blue'] = inFile.blue/256\n",
    "print(\"Length of dataset:\", df_las.shape[0])"
   ]
  },
  {
   "cell_type": "markdown",
   "metadata": {},
   "source": [
    "### 1.3 Normalizing data (Don't need to run)"
   ]
  },
  {
   "cell_type": "code",
   "execution_count": null,
   "metadata": {},
   "outputs": [],
   "source": [
    "# x = df[['X']].values.astype(float)\n",
    "# min_max_scaler = preprocessing.MinMaxScaler()\n",
    "# x_scaled = min_max_scaler.fit_transform(x)\n",
    "# df['X'] = x_scaled\n",
    "\n",
    "# y = df[['Y']].values.astype(float)\n",
    "# min_max_scaler = preprocessing.MinMaxScaler()\n",
    "# y_scaled = min_max_scaler.fit_transform(y)\n",
    "# df['Y'] = y_scaled\n",
    "\n",
    "# z = df[['Z']].values.astype(float)\n",
    "# min_max_scaler = preprocessing.MinMaxScaler()\n",
    "# z_scaled = min_max_scaler.fit_transform(z)\n",
    "# df['Z'] = z_scaled"
   ]
  },
  {
   "cell_type": "markdown",
   "metadata": {},
   "source": [
    "# 2. Plot functions"
   ]
  },
  {
   "cell_type": "code",
   "execution_count": 75,
   "metadata": {},
   "outputs": [],
   "source": [
    "# 3d plotting\n",
    "def plot_3d(df):\n",
    "    fig=plt.figure(figsize=(12, 8), dpi= 80, facecolor='w', edgecolor='k')\n",
    "    ax = fig.add_subplot(111, projection = '3d')\n",
    "    ax.scatter(df['X'].values, df['Y'].values, df['Z'].values, c = df[['Red','Green','Blue']].values/255.0, s= 1.0)\n",
    "    ax.set_xlabel('X')\n",
    "    ax.set_ylabel('Y')\n",
    "    ax.set_zlabel('Z')\n",
    "    plt.show()\n",
    "\n",
    "#2d pllotting\n",
    "def plot_2d(df):\n",
    "    fig=plt.figure(figsize=(12, 8), dpi= 80, facecolor='w', edgecolor='k')\n",
    "    plt.scatter(df['X'].values, df['Y'].values,c = df[['Red','Green','Blue']].values/255.0, s= 1.0)\n",
    "    plt.xlabel('X')\n",
    "    plt.ylabel('Y')\n",
    "    plt.show()\n",
    "\n",
    "def plot_pptk(df):\n",
    "    v = pptk.viewer(df[['X', 'Y', 'Z']])\n",
    "    v.attributes(df[['Red', 'Green', 'Blue']] / 255.)\n",
    "    v.set(point_size=0.001)"
   ]
  },
  {
   "cell_type": "markdown",
   "metadata": {},
   "source": [
    "# 3. Explorations"
   ]
  },
  {
   "cell_type": "markdown",
   "metadata": {},
   "source": [
    "### 3.1 Sample n data and plot in figure"
   ]
  },
  {
   "cell_type": "code",
   "execution_count": null,
   "metadata": {},
   "outputs": [],
   "source": [
    "# plot_3d(df.sample(n=10000, random_state = 42))\n",
    "# plot_2d(df.sample(n=10000, random_state = 42))\n",
    "plot_pptk(df_e57)\n",
    "plot_pptk(df_las)"
   ]
  }
 ],
 "metadata": {
  "kernelspec": {
   "display_name": "Python 3",
   "language": "python",
   "name": "python3"
  },
  "language_info": {
   "codemirror_mode": {
    "name": "ipython",
    "version": 3
   },
   "file_extension": ".py",
   "mimetype": "text/x-python",
   "name": "python",
   "nbconvert_exporter": "python",
   "pygments_lexer": "ipython3",
   "version": "3.6.8"
  }
 },
 "nbformat": 4,
 "nbformat_minor": 2
}
