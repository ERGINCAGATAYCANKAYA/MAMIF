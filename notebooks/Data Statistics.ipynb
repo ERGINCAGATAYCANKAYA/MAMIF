{
 "cells": [
  {
   "cell_type": "code",
   "execution_count": 1,
   "metadata": {},
   "outputs": [],
   "source": [
    "import pandas as pd\n",
    "import numpy as np\n",
    "import os\n",
    "from laspy.file import File\n",
    "from os import listdir\n",
    "from os.path import isfile, join\n",
    "from pathlib import Path\n",
    "import pptk\n",
    "import matplotlib.pyplot as plt"
   ]
  },
  {
   "cell_type": "markdown",
   "metadata": {},
   "source": [
    "# Dataframe Creation"
   ]
  },
  {
   "cell_type": "code",
   "execution_count": 2,
   "metadata": {},
   "outputs": [],
   "source": [
    "def makeDf(file_location_las):\n",
    "    \"\"\"\n",
    "    file_location_las: Path to the las file.\n",
    "    return:\n",
    "        pandas data frame with features\n",
    "            x ,y ,z ( in meters )\n",
    "            r ,g ,b\n",
    "    \"\"\"\n",
    "    inFile = File(file_location_las, mode='r')\n",
    "    df_las = pd.DataFrame(columns = [\"X\", \"Y\", \"Z\", \"Red\", \"Green\", \"Blue\"])\n",
    "    df_las['X'] = inFile.get_x_scaled()\n",
    "    df_las['Y'] = inFile.get_y_scaled()\n",
    "    df_las['Z'] = inFile.get_z_scaled()\n",
    "    df_las['Green'] = inFile.green/256\n",
    "    df_las['Red'] = inFile.red/256\n",
    "    df_las['Blue'] = inFile.blue/256\n",
    "\n",
    "    return df_las\n",
    "\n",
    "def makeDf_aerial(file_location_las):\n",
    "    \"\"\"\n",
    "    file_location_las: Path to the las file.\n",
    "    return:\n",
    "        pandas data frame with features\n",
    "            x ,y ,z ( in meters )\n",
    "            r ,g ,b\n",
    "    \"\"\"\n",
    "    inFile = File(file_location_las, mode='r')\n",
    "    df_las = pd.DataFrame(columns = [\"X\", \"Y\", \"Z\"])\n",
    "    df_las['X'] = inFile.get_x_scaled()\n",
    "    df_las['Y'] = inFile.get_y_scaled()\n",
    "    df_las['Z'] = inFile.get_z_scaled()\n",
    "    df_las['Classification'] = inFile.Classification\n",
    "    df_las['Intensity'] = inFile.Intensity\n",
    "\n",
    "    return df_las"
   ]
  },
  {
   "cell_type": "code",
   "execution_count": null,
   "metadata": {},
   "outputs": [],
   "source": [
    "file_root_path = Path(r\"C:\\Users\\Kazi Abir Adnan\\The University of Melbourne\")\n",
    "las_format_folder = file_root_path / 'Yuming ZHANG - data'\n",
    "mypath = r\"C:\\Users\\Kazi Abir Adnan\\The University of Melbourne\\Yuming ZHANG - data\"\n",
    "files = [f for f in listdir(mypath) if isfile(join(mypath, f)) and f.endswith('las')]"
   ]
  },
  {
   "cell_type": "code",
   "execution_count": null,
   "metadata": {},
   "outputs": [],
   "source": [
    "data = []\n",
    "for index, file in enumerate(files):\n",
    "    if index != 21 and index != 22:\n",
    "        file_location = las_format_folder/file\n",
    "        df = makeDf(file_location)\n",
    "        D = 10\n",
    "        df_filtered_10 = df[(df['X'] <= D) & (df['X'] >= -D) & (df['Y'] <= D) & (df['Y'] >= -D)]\n",
    "        D = 15\n",
    "        df_filtered_15 = df[(df['X'] <= D) & (df['X'] >= -D) & (df['Y'] <= D) & (df['Y'] >= -D)]\n",
    "        D = 20\n",
    "        df_filtered_20 = df[(df['X'] <= D) & (df['X'] >= -D) & (df['Y'] <= D) & (df['Y'] >= -D)]\n",
    "        D = 30\n",
    "        df_filtered_30 = df[(df['X'] <= D) & (df['X'] >= -D) & (df['Y'] <= D) & (df['Y'] >= -D)]\n",
    "        data.append({'file_name': file, 'size' : df.shape[0], 'file_size': os.stat(file_location).st_size >> 20,\n",
    "                     'x_min':df['X'].min(), 'x_max': df['X'].max(),\n",
    "                     'y_min':df['Y'].min(), 'y_max': df['Y'].max(),\n",
    "                     'z_min':df['Z'].min(), 'z_max': df['Z'].max(),\n",
    "                     'green_mean':df['Green'].mean(), 'red_mean': df['Red'].mean(), 'Blue_mean':df['Blue'].mean(),\n",
    "                     'diameter_10_size': df_filtered_10.shape[0] / df.shape[0],\n",
    "                     'diameter_15_size': df_filtered_15.shape[0] / df.shape[0],\n",
    "                     'diameter_20_size': df_filtered_20.shape[0] / df.shape[0],\n",
    "                     'diameter_30_size': df_filtered_30.shape[0] / df.shape[0]})\n",
    "        print(index, file)"
   ]
  },
  {
   "cell_type": "code",
   "execution_count": null,
   "metadata": {},
   "outputs": [],
   "source": [
    "df = pd.DataFrame(data)\n",
    "df.to_csv('dataset_overview.csv')"
   ]
  },
  {
   "cell_type": "markdown",
   "metadata": {},
   "source": [
    "# Statistics of Data"
   ]
  },
  {
   "cell_type": "markdown",
   "metadata": {},
   "source": [
    "#### Diameter Selection"
   ]
  },
  {
   "cell_type": "code",
   "execution_count": null,
   "metadata": {},
   "outputs": [],
   "source": [
    "plt.plot( list(range(0,len(df))), 'diameter_10_size', data=df, marker='o', markerfacecolor='blue', markersize=8, color='skyblue', linewidth=2, label = '10X10')\n",
    "plt.plot( list(range(0,len(df))), 'diameter_15_size', data=df, marker='', color='olive', linewidth=2, linestyle='--', label = '15X15')\n",
    "plt.plot( list(range(0,len(df))), 'diameter_20_size', data=df, marker='', color='olive', linewidth=2, linestyle='-.', label = '20X20')\n",
    "plt.plot( list(range(0,len(df))), 'diameter_30_size', data=df, marker='', color='olive', linewidth=2, linestyle=':', label = '30X30')\n",
    "plt.legend()\n",
    "plt.savefig('diameter_selection.png', dpi=300,transparent=True)"
   ]
  },
  {
   "cell_type": "markdown",
   "metadata": {},
   "source": [
    "#### Min Max of xyz"
   ]
  },
  {
   "cell_type": "code",
   "execution_count": null,
   "metadata": {},
   "outputs": [],
   "source": [
    "plt.plot( list(range(0,len(df))), 'x_max', data=df, marker='', color='olive', linewidth=2, linestyle='-')\n",
    "plt.plot( list(range(0,len(df))), 'x_min', data=df, marker='', color='blue', linewidth=2, linestyle='-')\n",
    "plt.plot( list(range(0,len(df))), 'y_max', data=df, marker='', color='olive', linewidth=2, linestyle='--')\n",
    "plt.plot( list(range(0,len(df))), 'y_min', data=df, marker='', color='blue', linewidth=2, linestyle='--')\n",
    "plt.plot( list(range(0,len(df))), 'z_max', data=df, marker='', color='olive', linewidth=2, linestyle=':')\n",
    "plt.plot( list(range(0,len(df))), 'z_min', data=df, marker='', color='blue', linewidth=2, linestyle=':')\n",
    "plt.legend()\n",
    "plt.savefig('xyz_min_max.png', dpi=300,transparent=True)"
   ]
  },
  {
   "cell_type": "markdown",
   "metadata": {},
   "source": [
    "#### File Size"
   ]
  },
  {
   "cell_type": "code",
   "execution_count": null,
   "metadata": {},
   "outputs": [],
   "source": [
    "plt.subplot(1, 2, 1)\n",
    "plt.plot( list(range(0,len(df))), 'file_size', data=df, marker='', color='olive', linewidth=2, linestyle='-', label = 'File Size in MB')\n",
    "plt.legend()\n",
    "plt.subplot(1, 2, 2)\n",
    "plt.plot( list(range(0,len(df))), 'size', data=df, marker='', color='blue', linewidth=2, linestyle='--', label = \"# of points\")\n",
    "plt.legend()\n",
    "plt.savefig('file_size.png', dpi=300,transparent=True)"
   ]
  },
  {
   "cell_type": "markdown",
   "metadata": {},
   "source": [
    "#### RGB"
   ]
  },
  {
   "cell_type": "code",
   "execution_count": null,
   "metadata": {},
   "outputs": [],
   "source": [
    "plt.plot( list(range(0,len(df))), 'red_mean', data=df, marker='', color='red', linewidth=2, linestyle='-')\n",
    "plt.plot( list(range(0,len(df))), 'green_mean', data=df, marker='', color='green', linewidth=2, linestyle='-')\n",
    "plt.plot( list(range(0,len(df))), 'Blue_mean', data=df, marker='', color='blue', linewidth=2, linestyle='-')\n",
    "plt.legend()\n",
    "plt.savefig('rgb.png', dpi=300,transparent=True)"
   ]
  },
  {
   "cell_type": "markdown",
   "metadata": {},
   "source": [
    "# 3D plot"
   ]
  },
  {
   "cell_type": "code",
   "execution_count": 3,
   "metadata": {},
   "outputs": [],
   "source": [
    "def plot_pptk(df):\n",
    "    v = pptk.viewer(df[['X', 'Y', 'Z']])\n",
    "    v.attributes(df[['Red', 'Green', 'Blue']] / 255.)\n",
    "    v.set(point_size=0.001)\n",
    "    return v\n",
    "\n",
    "def plot_pptk_aerial(df):\n",
    "    v = pptk.viewer(df[['X', 'Y', 'Z']])\n",
    "    v.attributes(df['Classification'])\n",
    "    v.set(point_size=0.001)\n",
    "    return v"
   ]
  },
  {
   "cell_type": "code",
   "execution_count": 4,
   "metadata": {},
   "outputs": [],
   "source": [
    "file_location = r\"C:\\Users\\Kazi Abir Adnan\\The University of Melbourne\\Yuming ZHANG - data\\carpark.las\"\n",
    "df_terrestrial = makeDf(file_location)\n",
    "v = plot_pptk(df_terrestrial)"
   ]
  },
  {
   "cell_type": "code",
   "execution_count": 10,
   "metadata": {},
   "outputs": [],
   "source": [
    "poses = []\n",
    "poses.append([0, 0, 0, 0 * np.pi/4, np.pi/6, 50])\n",
    "poses.append([0, 0, 0, 1 * np.pi/4, np.pi/6, 50])\n",
    "poses.append([0, 0, 0, 2 * np.pi/4, np.pi/6, 50])\n",
    "poses.append([0, 0, 0, 3 * np.pi/4, np.pi/6, 50])\n",
    "poses.append([0, 0, 0, 4 * np.pi/4, np.pi/6, 50])"
   ]
  },
  {
   "cell_type": "code",
   "execution_count": 16,
   "metadata": {},
   "outputs": [],
   "source": [
    "v.play(poses, 8 * np.arange(5), repeat=True, interp='linear')\n",
    "# v.record('recording', poses, 8 * np.arange(5), interp='linear')"
   ]
  },
  {
   "cell_type": "code",
   "execution_count": 15,
   "metadata": {},
   "outputs": [],
   "source": [
    "v.capture('aerial_y.png')"
   ]
  },
  {
   "cell_type": "code",
   "execution_count": null,
   "metadata": {},
   "outputs": [],
   "source": [
    "file_location = r\"C:\\Users\\Kazi Abir Adnan\\OneDrive - The University of Melbourne\\aerial\\Area 13\\717000_5952000.las\"\n",
    "df_arial = makeDf_aerial(file_location)\n",
    "v = plot_pptk_aerial(df_arial)"
   ]
  },
  {
   "cell_type": "code",
   "execution_count": null,
   "metadata": {},
   "outputs": [],
   "source": [
    "labels = ['Overlap/Reserved', 'High Vegetation', 'Ground', 'Low Vegetation', 'Medium Vegetation', 'Unassigned', 'Noise']\n",
    "sizes = x.values\n",
    "colors = ['purple', 'olive', 'coral', 'green','chartreuse','gray','red']\n",
    "patches, texts = plt.pie(sizes, colors=colors)\n",
    "plt.legend(patches, labels)\n",
    "plt.axis('equal')\n",
    "plt.tight_layout()\n",
    "plt.savefig('classification_aerial.png', dpi=300,transparent=True)"
   ]
  }
 ],
 "metadata": {
  "kernelspec": {
   "display_name": "Python 3",
   "language": "python",
   "name": "python3"
  },
  "language_info": {
   "codemirror_mode": {
    "name": "ipython",
    "version": 3
   },
   "file_extension": ".py",
   "mimetype": "text/x-python",
   "name": "python",
   "nbconvert_exporter": "python",
   "pygments_lexer": "ipython3",
   "version": "3.6.8"
  }
 },
 "nbformat": 4,
 "nbformat_minor": 2
}
