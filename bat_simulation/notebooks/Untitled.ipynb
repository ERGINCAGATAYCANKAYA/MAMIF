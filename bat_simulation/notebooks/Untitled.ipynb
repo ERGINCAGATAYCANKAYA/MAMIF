{
 "cells": [
  {
   "cell_type": "code",
   "execution_count": 17,
   "metadata": {},
   "outputs": [],
   "source": [
    "import pandas as pd\n",
    "import matplotlib.pyplot as plt\n",
    "%matplotlib inline"
   ]
  },
  {
   "cell_type": "code",
   "execution_count": 26,
   "metadata": {},
   "outputs": [],
   "source": [
    "df = pd.read_csv('../tmp.csv')"
   ]
  },
  {
   "cell_type": "code",
   "execution_count": 27,
   "metadata": {},
   "outputs": [
    {
     "data": {
      "text/html": [
       "<div>\n",
       "<style scoped>\n",
       "    .dataframe tbody tr th:only-of-type {\n",
       "        vertical-align: middle;\n",
       "    }\n",
       "\n",
       "    .dataframe tbody tr th {\n",
       "        vertical-align: top;\n",
       "    }\n",
       "\n",
       "    .dataframe thead th {\n",
       "        text-align: right;\n",
       "    }\n",
       "</style>\n",
       "<table border=\"1\" class=\"dataframe\">\n",
       "  <thead>\n",
       "    <tr style=\"text-align: right;\">\n",
       "      <th></th>\n",
       "      <th>experiment</th>\n",
       "      <th>time</th>\n",
       "      <th>speed</th>\n",
       "      <th>gamma</th>\n",
       "      <th>signal1</th>\n",
       "      <th>signal2</th>\n",
       "      <th>signal3</th>\n",
       "      <th>distance_to_goal</th>\n",
       "      <th>action</th>\n",
       "      <th>orientation</th>\n",
       "      <th>reward</th>\n",
       "    </tr>\n",
       "  </thead>\n",
       "  <tbody>\n",
       "    <tr>\n",
       "      <th>0</th>\n",
       "      <td>1</td>\n",
       "      <td>1</td>\n",
       "      <td>2</td>\n",
       "      <td>0.8</td>\n",
       "      <td>0.041341</td>\n",
       "      <td>0.041284</td>\n",
       "      <td>0.041573</td>\n",
       "      <td>692.622011</td>\n",
       "      <td>10</td>\n",
       "      <td>-0.747558</td>\n",
       "      <td>-0.2</td>\n",
       "    </tr>\n",
       "    <tr>\n",
       "      <th>1</th>\n",
       "      <td>1</td>\n",
       "      <td>2</td>\n",
       "      <td>2</td>\n",
       "      <td>0.8</td>\n",
       "      <td>0.041114</td>\n",
       "      <td>0.041123</td>\n",
       "      <td>0.041352</td>\n",
       "      <td>693.761896</td>\n",
       "      <td>10</td>\n",
       "      <td>-0.692657</td>\n",
       "      <td>-0.2</td>\n",
       "    </tr>\n",
       "    <tr>\n",
       "      <th>2</th>\n",
       "      <td>1</td>\n",
       "      <td>3</td>\n",
       "      <td>2</td>\n",
       "      <td>0.8</td>\n",
       "      <td>0.040950</td>\n",
       "      <td>0.041028</td>\n",
       "      <td>0.041126</td>\n",
       "      <td>694.603620</td>\n",
       "      <td>10</td>\n",
       "      <td>-0.637856</td>\n",
       "      <td>-0.2</td>\n",
       "    </tr>\n",
       "    <tr>\n",
       "      <th>3</th>\n",
       "      <td>1</td>\n",
       "      <td>4</td>\n",
       "      <td>2</td>\n",
       "      <td>0.8</td>\n",
       "      <td>0.040784</td>\n",
       "      <td>0.040911</td>\n",
       "      <td>0.040846</td>\n",
       "      <td>695.122724</td>\n",
       "      <td>10</td>\n",
       "      <td>-0.583133</td>\n",
       "      <td>-0.2</td>\n",
       "    </tr>\n",
       "    <tr>\n",
       "      <th>4</th>\n",
       "      <td>1</td>\n",
       "      <td>5</td>\n",
       "      <td>2</td>\n",
       "      <td>0.8</td>\n",
       "      <td>0.040634</td>\n",
       "      <td>0.040883</td>\n",
       "      <td>0.040628</td>\n",
       "      <td>695.304170</td>\n",
       "      <td>10</td>\n",
       "      <td>-0.528462</td>\n",
       "      <td>-0.2</td>\n",
       "    </tr>\n",
       "  </tbody>\n",
       "</table>\n",
       "</div>"
      ],
      "text/plain": [
       "   experiment  time  speed  gamma   signal1   signal2   signal3  \\\n",
       "0           1     1      2    0.8  0.041341  0.041284  0.041573   \n",
       "1           1     2      2    0.8  0.041114  0.041123  0.041352   \n",
       "2           1     3      2    0.8  0.040950  0.041028  0.041126   \n",
       "3           1     4      2    0.8  0.040784  0.040911  0.040846   \n",
       "4           1     5      2    0.8  0.040634  0.040883  0.040628   \n",
       "\n",
       "   distance_to_goal  action  orientation  reward  \n",
       "0        692.622011      10    -0.747558    -0.2  \n",
       "1        693.761896      10    -0.692657    -0.2  \n",
       "2        694.603620      10    -0.637856    -0.2  \n",
       "3        695.122724      10    -0.583133    -0.2  \n",
       "4        695.304170      10    -0.528462    -0.2  "
      ]
     },
     "execution_count": 27,
     "metadata": {},
     "output_type": "execute_result"
    }
   ],
   "source": [
    "df.head()"
   ]
  },
  {
   "cell_type": "code",
   "execution_count": 28,
   "metadata": {},
   "outputs": [
    {
     "data": {
      "text/plain": [
       "<matplotlib.axes._subplots.AxesSubplot at 0x11b71b748>"
      ]
     },
     "execution_count": 28,
     "metadata": {},
     "output_type": "execute_result"
    },
    {
     "data": {
      "image/png": "[encoded data removed]",
      "text/plain": [
       "<Figure size 432x288 with 1 Axes>"
      ]
     },
     "metadata": {
      "needs_background": "light"
     },
     "output_type": "display_data"
    }
   ],
   "source": [
    "df.groupby('experiment')['reward'].sum().plot()"
   ]
  },
  {
   "cell_type": "code",
   "execution_count": 30,
   "metadata": {},
   "outputs": [
    {
     "data": {
      "text/plain": [
       "experiment\n",
       "1        3.0\n",
       "2    -1344.5\n",
       "3     -819.4\n",
       "4     -631.2\n",
       "5    -1650.4\n",
       "6    -1202.8\n",
       "7    -1503.6\n",
       "8    -1069.2\n",
       "9    -1473.5\n",
       "10      44.4\n",
       "11   -1062.7\n",
       "12    -614.8\n",
       "13   -1355.7\n",
       "14   -1221.0\n",
       "15   -1218.5\n",
       "16    -943.3\n",
       "Name: reward, dtype: float64"
      ]
     },
     "execution_count": 30,
     "metadata": {},
     "output_type": "execute_result"
    }
   ],
   "source": [
    "df.groupby('experiment')['reward'].sum()"
   ]
  },
  {
   "cell_type": "code",
   "execution_count": null,
   "metadata": {},
   "outputs": [],
   "source": []
  }
 ],
 "metadata": {
  "kernelspec": {
   "display_name": "Python [conda env:root] *",
   "language": "python",
   "name": "conda-root-py"
  },
  "language_info": {
   "codemirror_mode": {
    "name": "ipython",
    "version": 3
   },
   "file_extension": ".py",
   "mimetype": "text/x-python",
   "name": "python",
   "nbconvert_exporter": "python",
   "pygments_lexer": "ipython3",
   "version": "3.7.3"
  }
 },
 "nbformat": 4,
 "nbformat_minor": 2
}
