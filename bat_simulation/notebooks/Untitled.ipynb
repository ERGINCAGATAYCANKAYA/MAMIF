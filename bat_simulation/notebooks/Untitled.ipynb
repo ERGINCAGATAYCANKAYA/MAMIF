{
 "cells": [
  {
   "cell_type": "code",
   "execution_count": 1,
   "metadata": {},
   "outputs": [],
   "source": [
    "import pandas as pd\n",
    "import matplotlib.pyplot as plt\n",
    "%matplotlib inline"
   ]
  },
  {
   "cell_type": "code",
   "execution_count": 135,
   "metadata": {},
   "outputs": [
    {
     "data": {
      "text/plain": [
       "experiment\n",
       "1   -55556.5\n",
       "2     -110.7\n",
       "3   -39306.8\n",
       "4    -6403.6\n",
       "5   -10237.4\n",
       "Name: reward, dtype: float64"
      ]
     },
     "execution_count": 135,
     "metadata": {},
     "output_type": "execute_result"
    },
    {
     "data": {
      "image/png": "[encoded data removed]",
      "text/plain": [
       "<Figure size 432x288 with 1 Axes>"
      ]
     },
     "metadata": {
      "needs_background": "light"
     },
     "output_type": "display_data"
    }
   ],
   "source": [
    "df = pd.read_csv('../tmp.csv')\n",
    "df.groupby('experiment')['reward'].sum().plot()\n",
    "df.groupby('experiment')['reward'].sum()\n",
    "\n"
   ]
  },
  {
   "cell_type": "code",
   "execution_count": 124,
   "metadata": {},
   "outputs": [
    {
     "data": {
      "text/plain": [
       "experiment\n",
       "1    AxesSubplot(0.125,0.125;0.775x0.755)\n",
       "2    AxesSubplot(0.125,0.125;0.775x0.755)\n",
       "3    AxesSubplot(0.125,0.125;0.775x0.755)\n",
       "4    AxesSubplot(0.125,0.125;0.775x0.755)\n",
       "Name: loss, dtype: object"
      ]
     },
     "execution_count": 124,
     "metadata": {},
     "output_type": "execute_result"
    },
    {
     "data": {
      "image/png": "[encoded data removed]",
      "text/plain": [
       "<Figure size 432x288 with 1 Axes>"
      ]
     },
     "metadata": {
      "needs_background": "light"
     },
     "output_type": "display_data"
    }
   ],
   "source": [
    "\n",
    "\n",
    "df[df.experiment<5].groupby('experiment')['loss'].plot()\n",
    "# df.groupby('experiment')['reward'].sum()\n"
   ]
  },
  {
   "cell_type": "code",
   "execution_count": 125,
   "metadata": {},
   "outputs": [
    {
     "data": {
      "text/plain": [
       "experiment\n",
       "6     AxesSubplot(0.125,0.125;0.775x0.755)\n",
       "7     AxesSubplot(0.125,0.125;0.775x0.755)\n",
       "8     AxesSubplot(0.125,0.125;0.775x0.755)\n",
       "9     AxesSubplot(0.125,0.125;0.775x0.755)\n",
       "10    AxesSubplot(0.125,0.125;0.775x0.755)\n",
       "11    AxesSubplot(0.125,0.125;0.775x0.755)\n",
       "12    AxesSubplot(0.125,0.125;0.775x0.755)\n",
       "13    AxesSubplot(0.125,0.125;0.775x0.755)\n",
       "14    AxesSubplot(0.125,0.125;0.775x0.755)\n",
       "Name: loss, dtype: object"
      ]
     },
     "execution_count": 125,
     "metadata": {},
     "output_type": "execute_result"
    },
    {
     "data": {
      "image/png": "[encoded data removed]",
      "text/plain": [
       "<Figure size 432x288 with 1 Axes>"
      ]
     },
     "metadata": {
      "needs_background": "light"
     },
     "output_type": "display_data"
    }
   ],
   "source": [
    "df[(df.experiment>5) & (df.experiment<15)].groupby('experiment')['loss'].plot()"
   ]
  },
  {
   "cell_type": "code",
   "execution_count": 126,
   "metadata": {},
   "outputs": [
    {
     "data": {
      "text/html": [
       "<div>\n",
       "<style scoped>\n",
       "    .dataframe tbody tr th:only-of-type {\n",
       "        vertical-align: middle;\n",
       "    }\n",
       "\n",
       "    .dataframe tbody tr th {\n",
       "        vertical-align: top;\n",
       "    }\n",
       "\n",
       "    .dataframe thead th {\n",
       "        text-align: right;\n",
       "    }\n",
       "</style>\n",
       "<table border=\"1\" class=\"dataframe\">\n",
       "  <thead>\n",
       "    <tr style=\"text-align: right;\">\n",
       "      <th></th>\n",
       "      <th>action</th>\n",
       "      <th>distance_to_goal</th>\n",
       "      <th>experiment</th>\n",
       "      <th>gamma</th>\n",
       "      <th>loss</th>\n",
       "      <th>orientation</th>\n",
       "      <th>reward</th>\n",
       "      <th>signal1</th>\n",
       "      <th>signal2</th>\n",
       "      <th>signal3</th>\n",
       "      <th>speed</th>\n",
       "      <th>time</th>\n",
       "    </tr>\n",
       "  </thead>\n",
       "  <tbody>\n",
       "    <tr>\n",
       "      <th>0</th>\n",
       "      <td>-14</td>\n",
       "      <td>549.444265</td>\n",
       "      <td>1</td>\n",
       "      <td>0.95</td>\n",
       "      <td>NaN</td>\n",
       "      <td>-0.752054</td>\n",
       "      <td>-0.2</td>\n",
       "      <td>0.010863</td>\n",
       "      <td>0.010996</td>\n",
       "      <td>0.010884</td>\n",
       "      <td>2</td>\n",
       "      <td>1</td>\n",
       "    </tr>\n",
       "    <tr>\n",
       "      <th>1</th>\n",
       "      <td>-14</td>\n",
       "      <td>551.168743</td>\n",
       "      <td>1</td>\n",
       "      <td>0.95</td>\n",
       "      <td>NaN</td>\n",
       "      <td>-0.830645</td>\n",
       "      <td>-0.2</td>\n",
       "      <td>0.010721</td>\n",
       "      <td>0.010786</td>\n",
       "      <td>0.010832</td>\n",
       "      <td>2</td>\n",
       "      <td>2</td>\n",
       "    </tr>\n",
       "    <tr>\n",
       "      <th>2</th>\n",
       "      <td>-14</td>\n",
       "      <td>553.087872</td>\n",
       "      <td>1</td>\n",
       "      <td>0.95</td>\n",
       "      <td>NaN</td>\n",
       "      <td>-0.909009</td>\n",
       "      <td>-0.2</td>\n",
       "      <td>0.010581</td>\n",
       "      <td>0.010579</td>\n",
       "      <td>0.010842</td>\n",
       "      <td>2</td>\n",
       "      <td>3</td>\n",
       "    </tr>\n",
       "    <tr>\n",
       "      <th>3</th>\n",
       "      <td>-14</td>\n",
       "      <td>555.086238</td>\n",
       "      <td>1</td>\n",
       "      <td>0.95</td>\n",
       "      <td>NaN</td>\n",
       "      <td>-0.987111</td>\n",
       "      <td>-0.2</td>\n",
       "      <td>0.010568</td>\n",
       "      <td>0.010413</td>\n",
       "      <td>0.010852</td>\n",
       "      <td>2</td>\n",
       "      <td>4</td>\n",
       "    </tr>\n",
       "    <tr>\n",
       "      <th>4</th>\n",
       "      <td>4</td>\n",
       "      <td>557.044913</td>\n",
       "      <td>1</td>\n",
       "      <td>0.95</td>\n",
       "      <td>NaN</td>\n",
       "      <td>0.935064</td>\n",
       "      <td>-0.2</td>\n",
       "      <td>0.010417</td>\n",
       "      <td>0.010324</td>\n",
       "      <td>0.010679</td>\n",
       "      <td>2</td>\n",
       "      <td>5</td>\n",
       "    </tr>\n",
       "  </tbody>\n",
       "</table>\n",
       "</div>"
      ],
      "text/plain": [
       "   action  distance_to_goal  experiment  gamma  loss  orientation  reward  \\\n",
       "0     -14        549.444265           1   0.95   NaN    -0.752054    -0.2   \n",
       "1     -14        551.168743           1   0.95   NaN    -0.830645    -0.2   \n",
       "2     -14        553.087872           1   0.95   NaN    -0.909009    -0.2   \n",
       "3     -14        555.086238           1   0.95   NaN    -0.987111    -0.2   \n",
       "4       4        557.044913           1   0.95   NaN     0.935064    -0.2   \n",
       "\n",
       "    signal1   signal2   signal3  speed  time  \n",
       "0  0.010863  0.010996  0.010884      2     1  \n",
       "1  0.010721  0.010786  0.010832      2     2  \n",
       "2  0.010581  0.010579  0.010842      2     3  \n",
       "3  0.010568  0.010413  0.010852      2     4  \n",
       "4  0.010417  0.010324  0.010679      2     5  "
      ]
     },
     "execution_count": 126,
     "metadata": {},
     "output_type": "execute_result"
    }
   ],
   "source": [
    "df.head()"
   ]
  },
  {
   "cell_type": "code",
   "execution_count": null,
   "metadata": {},
   "outputs": [],
   "source": []
  },
  {
   "cell_type": "code",
   "execution_count": null,
   "metadata": {},
   "outputs": [],
   "source": []
  }
 ],
 "metadata": {
  "kernelspec": {
   "display_name": "Python [conda env:root] *",
   "language": "python",
   "name": "conda-root-py"
  },
  "language_info": {
   "codemirror_mode": {
    "name": "ipython",
    "version": 3
   },
   "file_extension": ".py",
   "mimetype": "text/x-python",
   "name": "python",
   "nbconvert_exporter": "python",
   "pygments_lexer": "ipython3",
   "version": "3.7.3"
  }
 },
 "nbformat": 4,
 "nbformat_minor": 2
}
