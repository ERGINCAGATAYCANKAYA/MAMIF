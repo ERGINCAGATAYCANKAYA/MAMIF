{
 "cells": [
  {
   "cell_type": "code",
   "execution_count": 3,
   "metadata": {},
   "outputs": [],
   "source": [
    "from pathlib import Path\n",
    "from typing import List, Tuple\n",
    "\n",
    "import matplotlib.pyplot as plt\n",
    "import numpy as np\n",
    "import shapefile\n",
    "from matplotlib.collections import PatchCollection\n",
    "from matplotlib.patches import Polygon as pltPolygon\n",
    "from shapely.geometry import Point\n",
    "from shapely.geometry.polygon import Polygon\n",
    "\n",
    "\n",
    "class TreeGrid2D:\n",
    "    def __init__(self, shape_file_name: str):\n",
    "\n",
    "        self.file_name = shape_file_name\n",
    "\n",
    "        self.raw_polygon_data = self._extract_polygon_data()\n",
    "\n",
    "        self.polygon_list = self._extract_polygon()\n",
    "\n",
    "    def _extract_polygon_data(self) -> List[List[Tuple]]:\n",
    "        \"\"\"The only one time open this shapefile.\n",
    "\n",
    "        Read and store the list of polygon in \"raw_polygon_data\"\n",
    "\n",
    "        Return: \n",
    "            list of polygon, where each polygon is a list of tuple,(x:float,y:float)\n",
    "        \"\"\"\n",
    "        polygon_data = []\n",
    "        print(self.file_name)\n",
    "        with shapefile.Reader(self.file_name) as shp:\n",
    "\n",
    "            for s in shp.shapeRecords():\n",
    "                polygon = s.shape.points\n",
    "                polygon_data.append(polygon)\n",
    "\n",
    "        return polygon_data\n",
    "\n",
    "    def _extract_polygon(self) -> List[Polygon]:\n",
    "        \"\"\"\n",
    "        Use the data from 'raw_polygon_data' to constuct\n",
    "            a list of shapely.geometry.polygon.Polygon object.\n",
    "            Which is useful to check in a point is contain inside \n",
    "            a given polygon.\n",
    "\n",
    "        Return:\n",
    "            list of \"shapely.geometry.polygon.Polygon\" objects.\n",
    "        \"\"\"\n",
    "        polygon_list = []\n",
    "\n",
    "        for polygon_data in self.raw_polygon_data:\n",
    "            polygon_list.append(Polygon(polygon_data))\n",
    "\n",
    "        return polygon_list\n",
    "\n",
    "    def plot(self, distance_from_center: int = 40,\n",
    "             fig_size: tuple = (10, 10)) -> None:\n",
    "        \"\"\"\n",
    "        Ploting the polygons\n",
    "        \"\"\"\n",
    "        fig, ax = plt.subplots(figsize=(10, 10))\n",
    "        ax.set_xlim([-distance_from_center, distance_from_center])\n",
    "        ax.set_ylim([-distance_from_center, distance_from_center])\n",
    "        patches = []\n",
    "\n",
    "        for i in range(len(self.raw_polygon_data)):\n",
    "            #     polygon = pltPolygon(np.random.rand(num_sides ,2), True)\n",
    "            polygon = pltPolygon(np.array(self.raw_polygon_data[i]), True)\n",
    "            patches.append(polygon)\n",
    "\n",
    "        p = PatchCollection(patches, cmap=plt.cm.jet, alpha=0.4)\n",
    "\n",
    "        # colors = 100*np.random.rand(len(patches))\n",
    "        # p.set_array(np.array(colors))\n",
    "\n",
    "        ax.add_collection(p)\n",
    "\n",
    "        plt.show()\n"
   ]
  },
  {
   "cell_type": "code",
   "execution_count": 27,
   "metadata": {},
   "outputs": [],
   "source": [
    "from typing import List, Tuple\n",
    "\n",
    "import numpy as np\n",
    "from shapely.geometry import Point\n",
    "from shapely.geometry.polygon import Polygon\n",
    "\n",
    "\n",
    "\n",
    "def mapping_from_point_to_cell(x_axis_used: List[float], y_axis_used: List[float], x: float, y: float) -> Tuple[int, int]:\n",
    "\n",
    "    try:\n",
    "        x_cell_axis = x_axis_used.tolist().index(x)\n",
    "    except:\n",
    "        x_cell_axis = int(x_axis_used[np.abs(x_axis_used - x).argmin()])\n",
    "    try:\n",
    "        y_cell_axis = y_axis_used.tolist().index(y)\n",
    "    except:\n",
    "        y_cell_axis = int(y_axis_used[np.abs(y_axis_used - y).argmin()])\n",
    "\n",
    "    return (x_cell_axis, y_cell_axis)\n",
    "\n",
    "\n",
    "def make_polygon(minx, miny, maxx, maxy) -> Polygon:\n",
    "\n",
    "    return Polygon([[minx, miny], [minx, maxy], [maxx, maxy], [maxx, miny]])\n",
    "\n",
    "\n",
    "def _generate_x_y_axis_sequence(minx: float, maxx: float,\n",
    "                                miny: float, maxy: float, width: float) -> Tuple:\n",
    "    \"\"\"\n",
    "    Return\n",
    "        Tuple of np.array\n",
    "    \"\"\"\n",
    "\n",
    "    minx = np.floor(minx)\n",
    "    miny = np.floor(miny)\n",
    "    maxx = np.ceil(maxx)\n",
    "    maxy = np.ceil(maxy)\n",
    "\n",
    "    x_axis = np.arange(minx, maxx + width, width)\n",
    "\n",
    "    y_axis = np.arange(miny, maxy + width, width)\n",
    "\n",
    "    return (x_axis, y_axis)\n",
    "\n",
    "\n",
    "\n",
    "\n",
    "def generate_list_of_blocked_points(polygon: Polygon, x_axis_used: np.array,\n",
    "                                    y_axis_used: np.array,\n",
    "                                    width: float) -> List[Point]:\n",
    "    \"\"\"Given a polygon and the axises definded the coordinate, compute a list of blocked points.\n",
    "\n",
    "    Args:\n",
    "        polygon (Polygon): [description]\n",
    "        x_axis_used (np.array): [description]\n",
    "        y_axis_used (np.array): [description]\n",
    "        width (float): [description]\n",
    "\n",
    "    Returns:\n",
    "        List[Point]: [description]\n",
    "    \"\"\"\n",
    "    # Adjust the value for bounds.\n",
    "    minx, miny, maxx, maxy = polygon.bounds\n",
    "    # Find the cloest point in the axis\n",
    "    minx = x_axis_used[np.abs(x_axis_used - minx).argmin()]\n",
    "    maxx = x_axis_used[np.abs(x_axis_used - maxx).argmin()]\n",
    "    miny = y_axis_used[np.abs(y_axis_used - miny).argmin()]\n",
    "    maxy = y_axis_used[np.abs(y_axis_used - maxy).argmin()]\n",
    "\n",
    "    x_axis = [i for i in x_axis_used if i in range(minx, maxx + 1)]\n",
    "    y_axis = [i for i in y_axis_used if i in range(miny, maxy + 1)]\n",
    "\n",
    "    # All combinations of x_axis and y_axis values\n",
    "    point_grid = np.array(np.meshgrid(x_axis, y_axis)).T.reshape(-1, 2)\n",
    "\n",
    "    assert (point_grid.shape[0] == len(x_axis) * len(y_axis))\n",
    "\n",
    "    points_in_square = [Point(d) for d in point_grid]\n",
    "\n",
    "    points_in_polygon = [p for p in points_in_square if polygon.contains(p)]\n",
    "\n",
    "    return points_in_polygon\n",
    "\n",
    "\n",
    "def matrixrize_polygon(minx: float, miny: float, maxx: float, maxy: float,\n",
    "                       tree_grid: TreeGrid2D, width: float) -> List[List[int]]:\n",
    "    \"\"\"Generate a list of lists, where the innerlist indicates wheather or not a given cell\n",
    "    as blocked.\n",
    "\n",
    "    Args:\n",
    "        minx (float): left-most bound\n",
    "        miny (float): button-most bound\n",
    "        maxx (float): right-most bound\n",
    "        maxy (float): top-most bound\n",
    "        tree_grid (TreeGrid2D): Contains a list of Polygon objects\n",
    "        width (float): To set the desirable density of the grid\n",
    "\n",
    "    Returns:\n",
    "        List[List[int]]: [description]\n",
    "    \"\"\"\n",
    "\n",
    "    # Generate sequences for constuction of the grid.\n",
    "    x_axis, y_axis = _generate_x_y_axis_sequence(minx, maxx, miny, maxy, width)\n",
    "\n",
    "    # Step up a empty grid.\n",
    "    matrix_cells = [[0 for i in range(len(x_axis))]\n",
    "                    for j in range(len(y_axis))]\n",
    "\n",
    "    for p in tree_grid.polygon_list:\n",
    "\n",
    "        blocked_points = generate_list_of_blocked_points(p, x_axis_used=x_axis,\n",
    "                                                         y_axis_used=y_axis, width=width)\n",
    "\n",
    "        K, J = len(x_axis) - 1, len(y_axis) - 1\n",
    "        # print(\"J : {}\".format(J))\n",
    "        # M = np.array(matrix_cells)\n",
    "        # print(\"M : {}\".format(M.shape))\n",
    "\n",
    "        for p in blocked_points:\n",
    "\n",
    "            x, y = mapping_from_point_to_cell(x_axis, y_axis, p.x, p.y)\n",
    "            # print(\"x : {} , y : {}\".format(x, y))\n",
    "            if y > 0:\n",
    "                matrix_cells[J - y][x] = 1\n",
    "    return matrix_cells\n"
   ]
  },
  {
   "cell_type": "code",
   "execution_count": 28,
   "metadata": {},
   "outputs": [
    {
     "name": "stdout",
     "output_type": "stream",
     "text": [
      "./test_concave_hulls.shp\n"
     ]
    }
   ],
   "source": [
    "g = TreeGrid2D('./test_concave_hulls.shp')"
   ]
  },
  {
   "cell_type": "code",
   "execution_count": 29,
   "metadata": {},
   "outputs": [
    {
     "data": {
      "text/plain": [
       "<__main__.TreeGrid2D at 0x115b73630>"
      ]
     },
     "execution_count": 29,
     "metadata": {},
     "output_type": "execute_result"
    }
   ],
   "source": [
    "g"
   ]
  },
  {
   "cell_type": "code",
   "execution_count": 30,
   "metadata": {},
   "outputs": [
    {
     "ename": "TypeError",
     "evalue": "'numpy.float64' object cannot be interpreted as an integer",
     "output_type": "error",
     "traceback": [
      "\u001b[0;31m---------------------------------------------------------------------------\u001b[0m",
      "\u001b[0;31mTypeError\u001b[0m                                 Traceback (most recent call last)",
      "\u001b[0;32m<ipython-input-30-756fd0cb26b7>\u001b[0m in \u001b[0;36m<module>\u001b[0;34m\u001b[0m\n\u001b[1;32m      7\u001b[0m \u001b[0mmaxy\u001b[0m \u001b[0;34m=\u001b[0m \u001b[0mdistance\u001b[0m\u001b[0;34m\u001b[0m\u001b[0;34m\u001b[0m\u001b[0m\n\u001b[1;32m      8\u001b[0m \u001b[0;34m\u001b[0m\u001b[0m\n\u001b[0;32m----> 9\u001b[0;31m \u001b[0mcells\u001b[0m \u001b[0;34m=\u001b[0m \u001b[0mmatrixrize_polygon\u001b[0m\u001b[0;34m(\u001b[0m\u001b[0mminx\u001b[0m\u001b[0;34m,\u001b[0m \u001b[0mminy\u001b[0m\u001b[0;34m,\u001b[0m \u001b[0mmaxx\u001b[0m\u001b[0;34m,\u001b[0m \u001b[0mmaxy\u001b[0m\u001b[0;34m,\u001b[0m \u001b[0mg\u001b[0m\u001b[0;34m,\u001b[0m \u001b[0mwidth\u001b[0m\u001b[0;34m)\u001b[0m\u001b[0;34m\u001b[0m\u001b[0;34m\u001b[0m\u001b[0m\n\u001b[0m",
      "\u001b[0;32m<ipython-input-27-51567910e1c1>\u001b[0m in \u001b[0;36mmatrixrize_polygon\u001b[0;34m(minx, miny, maxx, maxy, tree_grid, width)\u001b[0m\n\u001b[1;32m    127\u001b[0m \u001b[0;34m\u001b[0m\u001b[0m\n\u001b[1;32m    128\u001b[0m         blocked_points = generate_list_of_blocked_points(p, x_axis_used=x_axis,\n\u001b[0;32m--> 129\u001b[0;31m                                                          y_axis_used=y_axis, width=width)\n\u001b[0m\u001b[1;32m    130\u001b[0m \u001b[0;34m\u001b[0m\u001b[0m\n\u001b[1;32m    131\u001b[0m         \u001b[0mK\u001b[0m\u001b[0;34m,\u001b[0m \u001b[0mJ\u001b[0m \u001b[0;34m=\u001b[0m \u001b[0mlen\u001b[0m\u001b[0;34m(\u001b[0m\u001b[0mx_axis\u001b[0m\u001b[0;34m)\u001b[0m \u001b[0;34m-\u001b[0m \u001b[0;36m1\u001b[0m\u001b[0;34m,\u001b[0m \u001b[0mlen\u001b[0m\u001b[0;34m(\u001b[0m\u001b[0my_axis\u001b[0m\u001b[0;34m)\u001b[0m \u001b[0;34m-\u001b[0m \u001b[0;36m1\u001b[0m\u001b[0;34m\u001b[0m\u001b[0;34m\u001b[0m\u001b[0m\n",
      "\u001b[0;32m<ipython-input-27-51567910e1c1>\u001b[0m in \u001b[0;36mgenerate_list_of_blocked_points\u001b[0;34m(polygon, x_axis_used, y_axis_used, width)\u001b[0m\n\u001b[1;32m     85\u001b[0m     \u001b[0mmaxy\u001b[0m \u001b[0;34m=\u001b[0m \u001b[0my_axis_used\u001b[0m\u001b[0;34m[\u001b[0m\u001b[0mnp\u001b[0m\u001b[0;34m.\u001b[0m\u001b[0mabs\u001b[0m\u001b[0;34m(\u001b[0m\u001b[0my_axis_used\u001b[0m \u001b[0;34m-\u001b[0m \u001b[0mmaxy\u001b[0m\u001b[0;34m)\u001b[0m\u001b[0;34m.\u001b[0m\u001b[0margmin\u001b[0m\u001b[0;34m(\u001b[0m\u001b[0;34m)\u001b[0m\u001b[0;34m]\u001b[0m\u001b[0;34m\u001b[0m\u001b[0;34m\u001b[0m\u001b[0m\n\u001b[1;32m     86\u001b[0m \u001b[0;34m\u001b[0m\u001b[0m\n\u001b[0;32m---> 87\u001b[0;31m     \u001b[0mx_axis\u001b[0m \u001b[0;34m=\u001b[0m \u001b[0;34m[\u001b[0m\u001b[0mi\u001b[0m \u001b[0;32mfor\u001b[0m \u001b[0mi\u001b[0m \u001b[0;32min\u001b[0m \u001b[0mx_axis_used\u001b[0m \u001b[0;32mif\u001b[0m \u001b[0mi\u001b[0m \u001b[0;32min\u001b[0m \u001b[0mrange\u001b[0m\u001b[0;34m(\u001b[0m\u001b[0mminx\u001b[0m\u001b[0;34m,\u001b[0m \u001b[0mmaxx\u001b[0m \u001b[0;34m+\u001b[0m \u001b[0;36m1\u001b[0m\u001b[0;34m)\u001b[0m\u001b[0;34m]\u001b[0m\u001b[0;34m\u001b[0m\u001b[0;34m\u001b[0m\u001b[0m\n\u001b[0m\u001b[1;32m     88\u001b[0m     \u001b[0my_axis\u001b[0m \u001b[0;34m=\u001b[0m \u001b[0;34m[\u001b[0m\u001b[0mi\u001b[0m \u001b[0;32mfor\u001b[0m \u001b[0mi\u001b[0m \u001b[0;32min\u001b[0m \u001b[0my_axis_used\u001b[0m \u001b[0;32mif\u001b[0m \u001b[0mi\u001b[0m \u001b[0;32min\u001b[0m \u001b[0mrange\u001b[0m\u001b[0;34m(\u001b[0m\u001b[0mminy\u001b[0m\u001b[0;34m,\u001b[0m \u001b[0mmaxy\u001b[0m \u001b[0;34m+\u001b[0m \u001b[0;36m1\u001b[0m\u001b[0;34m)\u001b[0m\u001b[0;34m]\u001b[0m\u001b[0;34m\u001b[0m\u001b[0;34m\u001b[0m\u001b[0m\n\u001b[1;32m     89\u001b[0m \u001b[0;34m\u001b[0m\u001b[0m\n",
      "\u001b[0;32m<ipython-input-27-51567910e1c1>\u001b[0m in \u001b[0;36m<listcomp>\u001b[0;34m(.0)\u001b[0m\n\u001b[1;32m     85\u001b[0m     \u001b[0mmaxy\u001b[0m \u001b[0;34m=\u001b[0m \u001b[0my_axis_used\u001b[0m\u001b[0;34m[\u001b[0m\u001b[0mnp\u001b[0m\u001b[0;34m.\u001b[0m\u001b[0mabs\u001b[0m\u001b[0;34m(\u001b[0m\u001b[0my_axis_used\u001b[0m \u001b[0;34m-\u001b[0m \u001b[0mmaxy\u001b[0m\u001b[0;34m)\u001b[0m\u001b[0;34m.\u001b[0m\u001b[0margmin\u001b[0m\u001b[0;34m(\u001b[0m\u001b[0;34m)\u001b[0m\u001b[0;34m]\u001b[0m\u001b[0;34m\u001b[0m\u001b[0;34m\u001b[0m\u001b[0m\n\u001b[1;32m     86\u001b[0m \u001b[0;34m\u001b[0m\u001b[0m\n\u001b[0;32m---> 87\u001b[0;31m     \u001b[0mx_axis\u001b[0m \u001b[0;34m=\u001b[0m \u001b[0;34m[\u001b[0m\u001b[0mi\u001b[0m \u001b[0;32mfor\u001b[0m \u001b[0mi\u001b[0m \u001b[0;32min\u001b[0m \u001b[0mx_axis_used\u001b[0m \u001b[0;32mif\u001b[0m \u001b[0mi\u001b[0m \u001b[0;32min\u001b[0m \u001b[0mrange\u001b[0m\u001b[0;34m(\u001b[0m\u001b[0mminx\u001b[0m\u001b[0;34m,\u001b[0m \u001b[0mmaxx\u001b[0m \u001b[0;34m+\u001b[0m \u001b[0;36m1\u001b[0m\u001b[0;34m)\u001b[0m\u001b[0;34m]\u001b[0m\u001b[0;34m\u001b[0m\u001b[0;34m\u001b[0m\u001b[0m\n\u001b[0m\u001b[1;32m     88\u001b[0m     \u001b[0my_axis\u001b[0m \u001b[0;34m=\u001b[0m \u001b[0;34m[\u001b[0m\u001b[0mi\u001b[0m \u001b[0;32mfor\u001b[0m \u001b[0mi\u001b[0m \u001b[0;32min\u001b[0m \u001b[0my_axis_used\u001b[0m \u001b[0;32mif\u001b[0m \u001b[0mi\u001b[0m \u001b[0;32min\u001b[0m \u001b[0mrange\u001b[0m\u001b[0;34m(\u001b[0m\u001b[0mminy\u001b[0m\u001b[0;34m,\u001b[0m \u001b[0mmaxy\u001b[0m \u001b[0;34m+\u001b[0m \u001b[0;36m1\u001b[0m\u001b[0;34m)\u001b[0m\u001b[0;34m]\u001b[0m\u001b[0;34m\u001b[0m\u001b[0;34m\u001b[0m\u001b[0m\n\u001b[1;32m     89\u001b[0m \u001b[0;34m\u001b[0m\u001b[0m\n",
      "\u001b[0;31mTypeError\u001b[0m: 'numpy.float64' object cannot be interpreted as an integer"
     ]
    }
   ],
   "source": [
    "distance = 10\n",
    "width = 0.2\n",
    "\n",
    "minx = -distance\n",
    "miny = -distance\n",
    "maxx = distance\n",
    "maxy = distance\n",
    "\n",
    "cells = matrixrize_polygon(minx, miny, maxx, maxy, g, width)"
   ]
  },
  {
   "cell_type": "code",
   "execution_count": 10,
   "metadata": {},
   "outputs": [
    {
     "data": {
      "image/svg+xml": [
       "<svg xmlns=\"http://www.w3.org/2000/svg\" xmlns:xlink=\"http://www.w3.org/1999/xlink\" width=\"100.0\" height=\"100.0\" viewBox=\"-4.286582155512888 7.692881739704107 7.80810808361076 6.576269683229779\" preserveAspectRatio=\"xMinYMin meet\"><g transform=\"matrix(1,0,0,-1,0,21.962033162637994)\"><path fill-rule=\"evenodd\" fill=\"#66cc99\" stroke=\"#555555\" stroke-width=\"0.1561621616722152\" opacity=\"0.6\" d=\"M -3.8577121545310007,7.990230652891981 L -3.8897318226670023,7.983385516465987 L -3.9113104094529945,7.982070927985987 L -3.9453414707320036,7.988799447691989 L -3.962163095575008,7.992666617149993 L -3.969085360912004,7.996998398222004 L -3.9900839462890048,8.01169290005599 L -3.997392967231008,8.095029858547989 L -3.995691242568995,8.144954801569995 L 1.0253999629279917,13.977758443681992 L 1.0283002339700005,13.979962234652007 L 1.3772321967889951,13.979150688296002 L 2.832397124636003,13.757099201515999 L 3.2323367398159917,12.187931120995998 L 3.232297932257012,12.182246320933999 L 3.179627626789994,12.072072144638 L 3.0261022834159945,11.912242834004005 L -3.8577121545310007,7.990230652891981 z\" /></g></svg>"
      ],
      "text/plain": [
       "<shapely.geometry.polygon.Polygon at 0x1157618d0>"
      ]
     },
     "execution_count": 10,
     "metadata": {},
     "output_type": "execute_result"
    }
   ],
   "source": [
    "g.polygon_list[0]"
   ]
  },
  {
   "cell_type": "code",
   "execution_count": 17,
   "metadata": {},
   "outputs": [],
   "source": [
    "P = g.polygon_list[0]"
   ]
  },
  {
   "cell_type": "code",
   "execution_count": 21,
   "metadata": {},
   "outputs": [
    {
     "ename": "TypeError",
     "evalue": "'LineString' object is not callable",
     "output_type": "error",
     "traceback": [
      "\u001b[0;31m---------------------------------------------------------------------------\u001b[0m",
      "\u001b[0;31mTypeError\u001b[0m                                 Traceback (most recent call last)",
      "\u001b[0;32m<ipython-input-21-6a8203efae08>\u001b[0m in \u001b[0;36m<module>\u001b[0;34m\u001b[0m\n\u001b[0;32m----> 1\u001b[0;31m \u001b[0mP\u001b[0m\u001b[0;34m.\u001b[0m\u001b[0mboundary\u001b[0m\u001b[0;34m(\u001b[0m\u001b[0;34m)\u001b[0m\u001b[0;34m\u001b[0m\u001b[0;34m\u001b[0m\u001b[0m\n\u001b[0m",
      "\u001b[0;31mTypeError\u001b[0m: 'LineString' object is not callable"
     ]
    }
   ],
   "source": [
    "P.bounds"
   ]
  },
  {
   "cell_type": "code",
   "execution_count": null,
   "metadata": {},
   "outputs": [],
   "source": []
  },
  {
   "cell_type": "code",
   "execution_count": 14,
   "metadata": {},
   "outputs": [
    {
     "data": {
      "text/plain": [
       "-3.997392967231008"
      ]
     },
     "execution_count": 14,
     "metadata": {},
     "output_type": "execute_result"
    }
   ],
   "source": [
    "a,b,c,d = g.polygon_list[0].bounds\n",
    "a"
   ]
  },
  {
   "cell_type": "code",
   "execution_count": 22,
   "metadata": {},
   "outputs": [],
   "source": [
    "x_axis, y_axis = _generate_x_y_axis_sequence(minx, maxx, miny, maxy, width)"
   ]
  },
  {
   "cell_type": "code",
   "execution_count": 16,
   "metadata": {},
   "outputs": [
    {
     "data": {
      "text/plain": [
       "-4.000000000000021"
      ]
     },
     "execution_count": 16,
     "metadata": {},
     "output_type": "execute_result"
    }
   ],
   "source": [
    "minx = x_axis[np.abs(x_axis - a).argmin()]\n",
    "minx"
   ]
  },
  {
   "cell_type": "code",
   "execution_count": 33,
   "metadata": {},
   "outputs": [],
   "source": [
    "arr = np.array([i for i in range(10)],np.float32)"
   ]
  },
  {
   "cell_type": "code",
   "execution_count": 34,
   "metadata": {},
   "outputs": [
    {
     "data": {
      "text/plain": [
       "array([0., 1., 2., 3., 4., 5., 6., 7., 8., 9.], dtype=float32)"
      ]
     },
     "execution_count": 34,
     "metadata": {},
     "output_type": "execute_result"
    }
   ],
   "source": [
    "arr"
   ]
  },
  {
   "cell_type": "code",
   "execution_count": 35,
   "metadata": {},
   "outputs": [
    {
     "data": {
      "text/plain": [
       "[3.0, 4.0, 5.0]"
      ]
     },
     "execution_count": 35,
     "metadata": {},
     "output_type": "execute_result"
    }
   ],
   "source": [
    "[i for i in arr if i in range(3,6)]"
   ]
  },
  {
   "cell_type": "code",
   "execution_count": null,
   "metadata": {},
   "outputs": [],
   "source": []
  }
 ],
 "metadata": {
  "kernelspec": {
   "display_name": "Python 3",
   "language": "python",
   "name": "python3"
  },
  "language_info": {
   "codemirror_mode": {
    "name": "ipython",
    "version": 3
   },
   "file_extension": ".py",
   "mimetype": "text/x-python",
   "name": "python",
   "nbconvert_exporter": "python",
   "pygments_lexer": "ipython3",
   "version": "3.7.3"
  }
 },
 "nbformat": 4,
 "nbformat_minor": 2
}
