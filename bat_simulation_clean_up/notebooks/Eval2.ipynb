{
 "cells": [
  {
   "cell_type": "code",
   "execution_count": 19,
   "metadata": {},
   "outputs": [],
   "source": [
    "import pandas as pd\n",
    "import matplotlib.pyplot as plt\n",
    "\n",
    "%matplotlib inline"
   ]
  },
  {
   "cell_type": "code",
   "execution_count": 28,
   "metadata": {},
   "outputs": [
    {
     "data": {
      "text/plain": [
       "(339254, 54)"
      ]
     },
     "execution_count": 28,
     "metadata": {},
     "output_type": "execute_result"
    }
   ],
   "source": [
    "df = pd.read_csv('eval_speed_101 sharps.csv')\n",
    "df.head()\n",
    "df.shape"
   ]
  },
  {
   "cell_type": "code",
   "execution_count": 29,
   "metadata": {},
   "outputs": [
    {
     "data": {
      "text/html": [
       "<div>\n",
       "<style scoped>\n",
       "    .dataframe tbody tr th:only-of-type {\n",
       "        vertical-align: middle;\n",
       "    }\n",
       "\n",
       "    .dataframe tbody tr th {\n",
       "        vertical-align: top;\n",
       "    }\n",
       "\n",
       "    .dataframe thead th {\n",
       "        text-align: right;\n",
       "    }\n",
       "</style>\n",
       "<table border=\"1\" class=\"dataframe\">\n",
       "  <thead>\n",
       "    <tr style=\"text-align: right;\">\n",
       "      <th></th>\n",
       "      <th>action</th>\n",
       "      <th>action_result</th>\n",
       "      <th>angle_-1</th>\n",
       "      <th>angle_-10</th>\n",
       "      <th>angle_-11</th>\n",
       "      <th>angle_-12</th>\n",
       "      <th>angle_-13</th>\n",
       "      <th>angle_-14</th>\n",
       "      <th>angle_-15</th>\n",
       "      <th>angle_-16</th>\n",
       "      <th>...</th>\n",
       "      <th>distance_to_goal</th>\n",
       "      <th>experiment</th>\n",
       "      <th>gamma</th>\n",
       "      <th>loss</th>\n",
       "      <th>orientation</th>\n",
       "      <th>reward</th>\n",
       "      <th>signal1</th>\n",
       "      <th>signal2</th>\n",
       "      <th>signal3</th>\n",
       "      <th>time</th>\n",
       "    </tr>\n",
       "    <tr>\n",
       "      <th>speed</th>\n",
       "      <th></th>\n",
       "      <th></th>\n",
       "      <th></th>\n",
       "      <th></th>\n",
       "      <th></th>\n",
       "      <th></th>\n",
       "      <th></th>\n",
       "      <th></th>\n",
       "      <th></th>\n",
       "      <th></th>\n",
       "      <th></th>\n",
       "      <th></th>\n",
       "      <th></th>\n",
       "      <th></th>\n",
       "      <th></th>\n",
       "      <th></th>\n",
       "      <th></th>\n",
       "      <th></th>\n",
       "      <th></th>\n",
       "      <th></th>\n",
       "      <th></th>\n",
       "    </tr>\n",
       "  </thead>\n",
       "  <tbody>\n",
       "    <tr>\n",
       "      <th>1</th>\n",
       "      <td>122414</td>\n",
       "      <td>122414</td>\n",
       "      <td>122414</td>\n",
       "      <td>122414</td>\n",
       "      <td>122414</td>\n",
       "      <td>122414</td>\n",
       "      <td>122414</td>\n",
       "      <td>122414</td>\n",
       "      <td>122414</td>\n",
       "      <td>122414</td>\n",
       "      <td>...</td>\n",
       "      <td>122414</td>\n",
       "      <td>122414</td>\n",
       "      <td>122414</td>\n",
       "      <td>81993</td>\n",
       "      <td>122414</td>\n",
       "      <td>122414</td>\n",
       "      <td>122414</td>\n",
       "      <td>122414</td>\n",
       "      <td>122414</td>\n",
       "      <td>122414</td>\n",
       "    </tr>\n",
       "    <tr>\n",
       "      <th>2</th>\n",
       "      <td>70338</td>\n",
       "      <td>70338</td>\n",
       "      <td>70338</td>\n",
       "      <td>70338</td>\n",
       "      <td>70338</td>\n",
       "      <td>70338</td>\n",
       "      <td>70338</td>\n",
       "      <td>70338</td>\n",
       "      <td>70338</td>\n",
       "      <td>70338</td>\n",
       "      <td>...</td>\n",
       "      <td>70338</td>\n",
       "      <td>70338</td>\n",
       "      <td>70338</td>\n",
       "      <td>44908</td>\n",
       "      <td>70338</td>\n",
       "      <td>70338</td>\n",
       "      <td>70338</td>\n",
       "      <td>70338</td>\n",
       "      <td>70338</td>\n",
       "      <td>70338</td>\n",
       "    </tr>\n",
       "    <tr>\n",
       "      <th>3</th>\n",
       "      <td>55726</td>\n",
       "      <td>55726</td>\n",
       "      <td>55726</td>\n",
       "      <td>55726</td>\n",
       "      <td>55726</td>\n",
       "      <td>55726</td>\n",
       "      <td>55726</td>\n",
       "      <td>55726</td>\n",
       "      <td>55726</td>\n",
       "      <td>55726</td>\n",
       "      <td>...</td>\n",
       "      <td>55726</td>\n",
       "      <td>55726</td>\n",
       "      <td>55726</td>\n",
       "      <td>27369</td>\n",
       "      <td>55726</td>\n",
       "      <td>55726</td>\n",
       "      <td>55726</td>\n",
       "      <td>55726</td>\n",
       "      <td>55726</td>\n",
       "      <td>55726</td>\n",
       "    </tr>\n",
       "    <tr>\n",
       "      <th>4</th>\n",
       "      <td>45577</td>\n",
       "      <td>45577</td>\n",
       "      <td>45577</td>\n",
       "      <td>45577</td>\n",
       "      <td>45577</td>\n",
       "      <td>45577</td>\n",
       "      <td>45577</td>\n",
       "      <td>45577</td>\n",
       "      <td>45577</td>\n",
       "      <td>45577</td>\n",
       "      <td>...</td>\n",
       "      <td>45577</td>\n",
       "      <td>45577</td>\n",
       "      <td>45577</td>\n",
       "      <td>21671</td>\n",
       "      <td>45577</td>\n",
       "      <td>45577</td>\n",
       "      <td>45577</td>\n",
       "      <td>45577</td>\n",
       "      <td>45577</td>\n",
       "      <td>45577</td>\n",
       "    </tr>\n",
       "    <tr>\n",
       "      <th>5</th>\n",
       "      <td>45199</td>\n",
       "      <td>45199</td>\n",
       "      <td>45199</td>\n",
       "      <td>45199</td>\n",
       "      <td>45199</td>\n",
       "      <td>45199</td>\n",
       "      <td>45199</td>\n",
       "      <td>45199</td>\n",
       "      <td>45199</td>\n",
       "      <td>45199</td>\n",
       "      <td>...</td>\n",
       "      <td>45199</td>\n",
       "      <td>45199</td>\n",
       "      <td>45199</td>\n",
       "      <td>21321</td>\n",
       "      <td>45199</td>\n",
       "      <td>45199</td>\n",
       "      <td>45199</td>\n",
       "      <td>45199</td>\n",
       "      <td>45199</td>\n",
       "      <td>45199</td>\n",
       "    </tr>\n",
       "  </tbody>\n",
       "</table>\n",
       "<p>5 rows × 53 columns</p>\n",
       "</div>"
      ],
      "text/plain": [
       "       action  action_result  angle_-1  angle_-10  angle_-11  angle_-12  \\\n",
       "speed                                                                     \n",
       "1      122414         122414    122414     122414     122414     122414   \n",
       "2       70338          70338     70338      70338      70338      70338   \n",
       "3       55726          55726     55726      55726      55726      55726   \n",
       "4       45577          45577     45577      45577      45577      45577   \n",
       "5       45199          45199     45199      45199      45199      45199   \n",
       "\n",
       "       angle_-13  angle_-14  angle_-15  angle_-16  ...  distance_to_goal  \\\n",
       "speed                                              ...                     \n",
       "1         122414     122414     122414     122414  ...            122414   \n",
       "2          70338      70338      70338      70338  ...             70338   \n",
       "3          55726      55726      55726      55726  ...             55726   \n",
       "4          45577      45577      45577      45577  ...             45577   \n",
       "5          45199      45199      45199      45199  ...             45199   \n",
       "\n",
       "       experiment   gamma   loss  orientation  reward  signal1  signal2  \\\n",
       "speed                                                                     \n",
       "1          122414  122414  81993       122414  122414   122414   122414   \n",
       "2           70338   70338  44908        70338   70338    70338    70338   \n",
       "3           55726   55726  27369        55726   55726    55726    55726   \n",
       "4           45577   45577  21671        45577   45577    45577    45577   \n",
       "5           45199   45199  21321        45199   45199    45199    45199   \n",
       "\n",
       "       signal3    time  \n",
       "speed                   \n",
       "1       122414  122414  \n",
       "2        70338   70338  \n",
       "3        55726   55726  \n",
       "4        45577   45577  \n",
       "5        45199   45199  \n",
       "\n",
       "[5 rows x 53 columns]"
      ]
     },
     "execution_count": 29,
     "metadata": {},
     "output_type": "execute_result"
    }
   ],
   "source": [
    "df.groupby('speed').count()"
   ]
  },
  {
   "cell_type": "code",
   "execution_count": 30,
   "metadata": {},
   "outputs": [
    {
     "data": {
      "text/plain": [
       "speed  action_result\n",
       "1      FORWARD          98768\n",
       "       GOAL               245\n",
       "       HIT_TREE            28\n",
       "       MOVE             23373\n",
       "2      FORWARD          52017\n",
       "       GOAL               236\n",
       "       HIT_TREE            47\n",
       "       MOVE             18037\n",
       "       ON_EDGE              1\n",
       "3      FORWARD          39786\n",
       "       GOAL               262\n",
       "       HIT_TREE            20\n",
       "       MOVE             15653\n",
       "       ON_EDGE              5\n",
       "4      FORWARD          32006\n",
       "       GOAL               234\n",
       "       HIT_TREE            52\n",
       "       MOVE             13234\n",
       "       ON_EDGE             51\n",
       "5      FORWARD          31354\n",
       "       GOAL               251\n",
       "       HIT_TREE            35\n",
       "       MOVE             13507\n",
       "       ON_EDGE             52\n",
       "Name: action, dtype: int64"
      ]
     },
     "execution_count": 30,
     "metadata": {},
     "output_type": "execute_result"
    }
   ],
   "source": [
    "df.groupby(['speed','action_result'])['action'].count()"
   ]
  },
  {
   "cell_type": "code",
   "execution_count": 31,
   "metadata": {},
   "outputs": [],
   "source": [
    "ANGLE = 20\n",
    "angles_cols = ['angle_'+str(i) for i in range(-ANGLE,ANGLE+1)]\n"
   ]
  },
  {
   "cell_type": "code",
   "execution_count": 32,
   "metadata": {},
   "outputs": [],
   "source": [
    "df['obstacle_detected']=df[angles_cols].apply(lambda x:any(x<25),axis=1)"
   ]
  },
  {
   "cell_type": "code",
   "execution_count": 33,
   "metadata": {},
   "outputs": [
    {
     "data": {
      "text/plain": [
       "speed  obstacle_detected\n",
       "1      False                118065\n",
       "       True                   4349\n",
       "2      False                 67147\n",
       "       True                   3191\n",
       "3      False                 54262\n",
       "       True                   1464\n",
       "4      False                 44224\n",
       "       True                   1353\n",
       "5      False                 44065\n",
       "       True                   1134\n",
       "Name: action, dtype: int64"
      ]
     },
     "execution_count": 33,
     "metadata": {},
     "output_type": "execute_result"
    }
   ],
   "source": [
    "df.groupby(['speed','obstacle_detected'])['action'].count()"
   ]
  },
  {
   "cell_type": "code",
   "execution_count": 34,
   "metadata": {},
   "outputs": [],
   "source": [
    "tmp_df = df[df['obstacle_detected']==True]"
   ]
  },
  {
   "cell_type": "code",
   "execution_count": null,
   "metadata": {},
   "outputs": [],
   "source": []
  },
  {
   "cell_type": "code",
   "execution_count": 35,
   "metadata": {},
   "outputs": [],
   "source": [
    "dat = []\n",
    "for s in range(1,6):\n",
    "    tmp = tmp_df[tmp_df['speed'] == s]\n",
    "    \n",
    "    L = []\n",
    "    for i in range(tmp.shape[0]):\n",
    "        action = tmp.iloc[i].action\n",
    "        distance = tmp.iloc[i]['angle_'+str(action)]\n",
    "        other_distance = []\n",
    "        for i in range(-ANGLE,ANGLE + 1):\n",
    "            if i != action:\n",
    "                other_distance.append(tmp.iloc[i]['angle_'+str(i)])\n",
    "    #     assert(len(other_distance) == 40)\n",
    "\n",
    "        L.append([distance,other_distance])\n",
    "    dat.append(L)\n",
    "    "
   ]
  },
  {
   "cell_type": "code",
   "execution_count": 36,
   "metadata": {},
   "outputs": [
    {
     "name": "stdout",
     "output_type": "stream",
     "text": [
      "22.09013566337089\n",
      "23.764836744079496\n",
      "###########################\n",
      "\n",
      "21.489815104982764\n",
      "18.19366186148499\n",
      "###########################\n",
      "\n",
      "22.28756830601093\n",
      "21.969193989071524\n",
      "###########################\n",
      "\n",
      "20.254249815225425\n",
      "19.357889874353372\n",
      "###########################\n",
      "\n",
      "21.02469135802469\n",
      "20.4114858906525\n",
      "###########################\n",
      "\n"
     ]
    }
   ],
   "source": [
    "for L in dat:\n",
    "    N = len(L)\n",
    "    A = sum([i[0] for i in L])\n",
    "    B = sum([sum(i[1])/40 for i in L])\n",
    "    \n",
    "    print(A/N)\n",
    "    print(B/N)\n",
    "    print(\"###########################\")\n",
    "    print()\n",
    "    "
   ]
  },
  {
   "cell_type": "code",
   "execution_count": 17,
   "metadata": {},
   "outputs": [],
   "source": [
    "L = []\n",
    "for i in range(tmp_df.shape[0]):\n",
    "    action = tmp_df.iloc[i].action\n",
    "    distance = tmp_df.iloc[i]['angle_'+str(action)]\n",
    "    other_distance = []\n",
    "    for i in range(-ANGLE,ANGLE + 1):\n",
    "        if i != action:\n",
    "            other_distance.append(tmp_df.iloc[i]['angle_'+str(i)])\n",
    "#     assert(len(other_distance) == 40)\n",
    "    \n",
    "    L.append([distance,other_distance])"
   ]
  },
  {
   "cell_type": "code",
   "execution_count": 18,
   "metadata": {},
   "outputs": [
    {
     "name": "stdout",
     "output_type": "stream",
     "text": [
      "19.816363308704272\n",
      "21.14069201658066\n"
     ]
    }
   ],
   "source": [
    "N = len(L)\n",
    "A = sum([i[0] for i in L])\n",
    "B = sum([sum(i[1])/40 for i in L])\n",
    "\n",
    "print(A/N)\n",
    "print(B/N)"
   ]
  },
  {
   "cell_type": "code",
   "execution_count": null,
   "metadata": {},
   "outputs": [],
   "source": []
  },
  {
   "cell_type": "code",
   "execution_count": null,
   "metadata": {},
   "outputs": [],
   "source": []
  },
  {
   "cell_type": "code",
   "execution_count": null,
   "metadata": {},
   "outputs": [],
   "source": []
  },
  {
   "cell_type": "code",
   "execution_count": null,
   "metadata": {},
   "outputs": [],
   "source": []
  },
  {
   "cell_type": "code",
   "execution_count": null,
   "metadata": {},
   "outputs": [],
   "source": []
  },
  {
   "cell_type": "code",
   "execution_count": null,
   "metadata": {},
   "outputs": [],
   "source": []
  },
  {
   "cell_type": "code",
   "execution_count": null,
   "metadata": {},
   "outputs": [],
   "source": []
  },
  {
   "cell_type": "code",
   "execution_count": null,
   "metadata": {},
   "outputs": [],
   "source": []
  },
  {
   "cell_type": "code",
   "execution_count": null,
   "metadata": {},
   "outputs": [],
   "source": []
  },
  {
   "cell_type": "code",
   "execution_count": 39,
   "metadata": {},
   "outputs": [
    {
     "data": {
      "text/plain": [
       "action_result\n",
       "FORWARD     10280\n",
       "GOAL           76\n",
       "HIT_TREE       24\n",
       "MOVE          697\n",
       "ON_EDGE         2\n",
       "Name: action_result, dtype: int64"
      ]
     },
     "execution_count": 39,
     "metadata": {},
     "output_type": "execute_result"
    }
   ],
   "source": [
    "df = pd.read_csv(\"../eval_speed_101 sharps_{}.csv\".format(5))\n",
    "df.groupby('action_result')['action_result'].count()"
   ]
  },
  {
   "cell_type": "code",
   "execution_count": 40,
   "metadata": {},
   "outputs": [
    {
     "name": "stdout",
     "output_type": "stream",
     "text": [
      "5\n"
     ]
    }
   ],
   "source": [
    "dfs = []\n",
    "for i in range(1,6):\n",
    "    dfs.append(pd.read_csv(\"../eval_speed_101 sharps_{}.csv\".format(i)))\n",
    "print(len(dfs))"
   ]
  },
  {
   "cell_type": "code",
   "execution_count": 41,
   "metadata": {},
   "outputs": [
    {
     "name": "stdout",
     "output_type": "stream",
     "text": [
      "1\n",
      "action_result\n",
      "FORWARD     10419\n",
      "GOAL           87\n",
      "HIT_TREE       12\n",
      "MOVE         1250\n",
      "ON_EDGE        12\n",
      "Name: action_result, dtype: int64\n",
      "#################################\n",
      "2\n",
      "action_result\n",
      "FORWARD     9271\n",
      "GOAL          68\n",
      "HIT_TREE      31\n",
      "MOVE        2239\n",
      "Name: action_result, dtype: int64\n",
      "#################################\n",
      "3\n",
      "action_result\n",
      "FORWARD     9194\n",
      "GOAL          96\n",
      "HIT_TREE       4\n",
      "MOVE         341\n",
      "Name: action_result, dtype: int64\n",
      "#################################\n",
      "4\n",
      "action_result\n",
      "FORWARD     10332\n",
      "GOAL           93\n",
      "HIT_TREE        7\n",
      "MOVE          671\n",
      "Name: action_result, dtype: int64\n",
      "#################################\n",
      "5\n",
      "action_result\n",
      "FORWARD     10280\n",
      "GOAL           76\n",
      "HIT_TREE       24\n",
      "MOVE          697\n",
      "ON_EDGE         2\n",
      "Name: action_result, dtype: int64\n",
      "#################################\n"
     ]
    }
   ],
   "source": [
    "for i in range(1,6):\n",
    "    print(i)\n",
    "    print(dfs[i-1].groupby('action_result')['action_result'].count())\n",
    "    print(\"#################################\")"
   ]
  },
  {
   "cell_type": "code",
   "execution_count": 44,
   "metadata": {},
   "outputs": [],
   "source": [
    "df = pd.read_csv(\"../eval_speed_101 sharps.csv\")"
   ]
  },
  {
   "cell_type": "code",
   "execution_count": 45,
   "metadata": {},
   "outputs": [
    {
     "data": {
      "text/plain": [
       "array([1, 2, 3, 4, 5])"
      ]
     },
     "execution_count": 45,
     "metadata": {},
     "output_type": "execute_result"
    }
   ],
   "source": [
    "import numpy as np\n",
    "np.unique(df.speed)"
   ]
  },
  {
   "cell_type": "code",
   "execution_count": 50,
   "metadata": {},
   "outputs": [
    {
     "data": {
      "text/plain": [
       "speed  action_result\n",
       "1      FORWARD          2852\n",
       "       GOAL                9\n",
       "       HIT_TREE            1\n",
       "       MOVE              247\n",
       "2      FORWARD          1266\n",
       "       GOAL                8\n",
       "       HIT_TREE            2\n",
       "       MOVE               72\n",
       "3      FORWARD           831\n",
       "       GOAL                9\n",
       "       HIT_TREE            1\n",
       "       MOVE               10\n",
       "4      FORWARD           857\n",
       "       GOAL               10\n",
       "       MOVE               77\n",
       "       ON_EDGE             1\n",
       "5      FORWARD           656\n",
       "       GOAL                8\n",
       "       HIT_TREE            2\n",
       "       MOVE               95\n",
       "Name: action, dtype: int64"
      ]
     },
     "execution_count": 50,
     "metadata": {},
     "output_type": "execute_result"
    }
   ],
   "source": [
    "df.groupby(['speed','action_result'])['action'].count()"
   ]
  },
  {
   "cell_type": "code",
   "execution_count": null,
   "metadata": {},
   "outputs": [],
   "source": []
  }
 ],
 "metadata": {
  "kernelspec": {
   "display_name": "Python 3",
   "language": "python",
   "name": "python3"
  },
  "language_info": {
   "codemirror_mode": {
    "name": "ipython",
    "version": 3
   },
   "file_extension": ".py",
   "mimetype": "text/x-python",
   "name": "python",
   "nbconvert_exporter": "python",
   "pygments_lexer": "ipython3",
   "version": "3.7.3"
  }
 },
 "nbformat": 4,
 "nbformat_minor": 2
}
