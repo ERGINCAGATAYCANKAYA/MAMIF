{
 "cells": [
  {
   "cell_type": "code",
   "execution_count": 1,
   "metadata": {},
   "outputs": [],
   "source": [
    "import pandas as pd\n",
    "import matplotlib.pyplot as plt\n",
    "%matplotlib inline"
   ]
  },
  {
   "cell_type": "code",
   "execution_count": 13,
   "metadata": {},
   "outputs": [
    {
     "data": {
      "text/plain": [
       "action_result\n",
       "FORWARD     10280\n",
       "GOAL           76\n",
       "HIT_TREE       24\n",
       "MOVE          697\n",
       "ON_EDGE         2\n",
       "Name: action_result, dtype: int64"
      ]
     },
     "execution_count": 13,
     "metadata": {},
     "output_type": "execute_result"
    }
   ],
   "source": [
    "df = pd.read_csv(\"../eval_speed_101 sharps_{}.csv\".format(5))\n",
    "df.groupby('action_result')['action_result'].count()"
   ]
  },
  {
   "cell_type": "code",
   "execution_count": 17,
   "metadata": {},
   "outputs": [
    {
     "name": "stdout",
     "output_type": "stream",
     "text": [
      "5\n"
     ]
    }
   ],
   "source": [
    "dfs = []\n",
    "for i in range(1,6):\n",
    "    dfs.append(pd.read_csv(\"../eval_speed_101 sharps_{}.csv\".format(i)))\n",
    "print(len(dfs))"
   ]
  },
  {
   "cell_type": "code",
   "execution_count": 24,
   "metadata": {},
   "outputs": [
    {
     "name": "stdout",
     "output_type": "stream",
     "text": [
      "1\n",
      "action_result\n",
      "FORWARD     10419\n",
      "GOAL           87\n",
      "HIT_TREE       12\n",
      "MOVE         1250\n",
      "ON_EDGE        12\n",
      "Name: action_result, dtype: int64\n",
      "#################################\n",
      "2\n",
      "action_result\n",
      "FORWARD     9271\n",
      "GOAL          68\n",
      "HIT_TREE      31\n",
      "MOVE        2239\n",
      "Name: action_result, dtype: int64\n",
      "#################################\n",
      "3\n",
      "action_result\n",
      "FORWARD     9194\n",
      "GOAL          96\n",
      "HIT_TREE       4\n",
      "MOVE         341\n",
      "Name: action_result, dtype: int64\n",
      "#################################\n",
      "4\n",
      "action_result\n",
      "FORWARD     10332\n",
      "GOAL           93\n",
      "HIT_TREE        7\n",
      "MOVE          671\n",
      "Name: action_result, dtype: int64\n",
      "#################################\n",
      "5\n",
      "action_result\n",
      "FORWARD     10280\n",
      "GOAL           76\n",
      "HIT_TREE       24\n",
      "MOVE          697\n",
      "ON_EDGE         2\n",
      "Name: action_result, dtype: int64\n",
      "#################################\n"
     ]
    }
   ],
   "source": [
    "for i in range(1,6):\n",
    "    print(i)\n",
    "    print(dfs[i-1].groupby('action_result')['action_result'].count())\n",
    "    print(\"#################################\")"
   ]
  },
  {
   "cell_type": "code",
   "execution_count": 21,
   "metadata": {},
   "outputs": [
    {
     "data": {
      "text/plain": [
       "5"
      ]
     },
     "execution_count": 21,
     "metadata": {},
     "output_type": "execute_result"
    }
   ],
   "source": [
    "len(dfs)"
   ]
  },
  {
   "cell_type": "code",
   "execution_count": null,
   "metadata": {},
   "outputs": [],
   "source": []
  }
 ],
 "metadata": {
  "kernelspec": {
   "display_name": "Python 3",
   "language": "python",
   "name": "python3"
  },
  "language_info": {
   "codemirror_mode": {
    "name": "ipython",
    "version": 3
   },
   "file_extension": ".py",
   "mimetype": "text/x-python",
   "name": "python",
   "nbconvert_exporter": "python",
   "pygments_lexer": "ipython3",
   "version": "3.7.3"
  }
 },
 "nbformat": 4,
 "nbformat_minor": 2
}
